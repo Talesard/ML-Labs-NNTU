{
 "cells": [
  {
   "cell_type": "code",
   "execution_count": 6,
   "id": "205d4bc4",
   "metadata": {},
   "outputs": [],
   "source": [
    "import pickle\n",
    "import os\n",
    "from tqdm.notebook import trange, tqdm\n",
    "from matplotlib import pyplot as plt\n",
    "\n",
    "from nltk.corpus import stopwords\n",
    "import nltk\n",
    "import pymorphy2 \n",
    "morph = pymorphy2.MorphAnalyzer()\n",
    "\n",
    "from collections import Counter\n",
    "\n",
    "import numpy as np\n",
    "import tensorflow as tf\n",
    "from sklearn.model_selection import train_test_split\n",
    "from sklearn.metrics import classification_report, confusion_matrix\n",
    "from tensorflow.keras import layers, models, utils\n",
    "\n",
    "import random"
   ]
  },
  {
   "cell_type": "markdown",
   "id": "10fe74a8",
   "metadata": {},
   "source": [
    "# О чем этот ноутбук\n",
    "\n",
    "Данные были собраны с анонимной борды 2ch.hk. На каждый раздел собрано несколько тысяч постов. Разделы ограничил пятью классами (железо больше не вывозит). Задача - классифицировать посты по разделам. Это реально полезно, т.к. существует общий раздел без определенной тематики. Многие юзеры недовольны тем, что туда пишут то, что нужно писать в определенном разделе.\n",
    "\n",
    "**Предупреждение:** Крайне не рекомендуется читать посты во избежание травмирования психики!"
   ]
  },
  {
   "cell_type": "markdown",
   "id": "ddb1cff9",
   "metadata": {},
   "source": [
    "## Settings"
   ]
  },
  {
   "cell_type": "code",
   "execution_count": 3,
   "id": "dc57de9c",
   "metadata": {},
   "outputs": [],
   "source": [
    "data_dir = 'data_all_posts'\n",
    "TO_INITIAL_FORM = True # приводить ли слова к начальной форме (лучше приводить)\n",
    "MESSAGE_LEN = 50 # все векторы сообщений приводятся к этой длине (обрезаются / дополняются пустотой)\n",
    "MIN_WORDS = 5 # минимальное число слов в сообщении, при котором оно считается пригодным для использования\n",
    "MAX_SAMPLES_PER_CLASS = None # сколько сообщений на один класс, None - автоматически по самому маленькому классу"
   ]
  },
  {
   "cell_type": "markdown",
   "id": "0dad6087",
   "metadata": {},
   "source": [
    "## Data"
   ]
  },
  {
   "cell_type": "markdown",
   "id": "871f125c",
   "metadata": {},
   "source": [
    "Определяем те слова, которые будем выкидывать: предлоги и т.п., теги, названия разделов в самих сообщениях (так будет честнее)"
   ]
  },
  {
   "cell_type": "code",
   "execution_count": 3,
   "id": "e771590f",
   "metadata": {},
   "outputs": [],
   "source": [
    "stops = stopwords.words(\"russian\") + stopwords.words(\"english\")\n",
    "htmls = ['blank', 'rel', 'href', 'https', 'br', 'strong', 'nofollow',\n",
    "         'target', 'link', 'noreferrer', 'span', 'class', 'index',\n",
    "         'html', 'post', 'reply', 'quot', 'org', 'ch', 'hk', 'noopener',\n",
    "         'unkfunc', 'tags', 'size', 'width', 'block', 'td', 'pointer',\n",
    "         'background', 'bold', 'text', 'margin', 'type', 'style', 'padding',\n",
    "         'radius', 'hover', 'max', 'cursor', 'px', 'decoration', 'pr', 'wrap',\n",
    "         'visited', 'webkit', 'font', 'important', 'border', 'fff', 'transition',\n",
    "         'top', 'css', 'display', 'none', 'title', 'flex', 'bottom', 'ff', 'weight',\n",
    "         'color', 'container', 'h', 'table', 'center', 'pt', 'align', 'b', 'hashlink',\n",
    "         'res', 'data', 'thread', 'data', 'num', 'gt']\n",
    "boards_mentioning =  ['o', 'soc', 'media', 'r', 'int', 'po',\n",
    "                      'news', 'hry', 'au', 'bi', 'biz', 'bo',\n",
    "                      'c', 'cc', 'em', 'fa', 'fiz', 'fl', 'ftb',\n",
    "                      'hh', 'hi', 'me', 'mg', 'mlp', 'mo', 'mov',\n",
    "                      'mu', 'ne', 'psy', 're', 'sci', 'sf', 'sn',\n",
    "                      'sp', 'spc', 'tv', 'un', 'w', 'wh', 'wm',\n",
    "                      'wp', 'zog', 'de', 'di', 'diy', 'izd',\n",
    "                      'mus', 'pa', 'p', 'wrk', 'trv', 'gd',\n",
    "                      'hw', 'mobi', 'pr', 'ra', 's', 't', 'web',\n",
    "                      'bg', 'cg', 'gsg', 'tes', 'v', 'vg', 'wr',\n",
    "                      'a', 'fd', 'ja', 'ma']"
   ]
  },
  {
   "cell_type": "code",
   "execution_count": 4,
   "id": "939182b3",
   "metadata": {},
   "outputs": [],
   "source": [
    "def read_picle_file(path):\n",
    "    with open(path, \"rb\") as f:\n",
    "        data = pickle.load(f)\n",
    "    return data"
   ]
  },
  {
   "cell_type": "code",
   "execution_count": 5,
   "id": "2c82167d",
   "metadata": {},
   "outputs": [],
   "source": [
    "def read_boards(dir_name):\n",
    "    boards = []\n",
    "    for file in tqdm(os.listdir(dir_name)):\n",
    "        filename = os.fsdecode(file)\n",
    "        data = read_picle_file(os.path.join(dir_name, filename))\n",
    "        boards.append(data)\n",
    "    return boards"
   ]
  },
  {
   "cell_type": "code",
   "execution_count": 6,
   "id": "bdbbab66",
   "metadata": {},
   "outputs": [],
   "source": [
    "def select_boards(data, board_short_names):\n",
    "    result = []\n",
    "    for bsn in board_short_names:\n",
    "        for d in data:\n",
    "            if d['board_short_name'] == bsn:\n",
    "                result.append(d)\n",
    "    return result"
   ]
  },
  {
   "cell_type": "code",
   "execution_count": 7,
   "id": "89f08d5d",
   "metadata": {},
   "outputs": [],
   "source": [
    "def get_words(data):\n",
    "    words = []\n",
    "    for d in data:\n",
    "        for m in d['messages']:\n",
    "            words += (m.split(' '))\n",
    "    return words"
   ]
  },
  {
   "cell_type": "code",
   "execution_count": 8,
   "id": "c9138dcb",
   "metadata": {},
   "outputs": [],
   "source": [
    "def get_words_str(words_list):\n",
    "    return ' '.join(words_list)"
   ]
  },
  {
   "cell_type": "markdown",
   "id": "a14935c9",
   "metadata": {},
   "source": [
    "**Читаем все данные**"
   ]
  },
  {
   "cell_type": "code",
   "execution_count": 9,
   "id": "f4eb1b21",
   "metadata": {},
   "outputs": [
    {
     "data": {
      "application/vnd.jupyter.widget-view+json": {
       "model_id": "1f62cf3a8ae14a41885a65fa38a0d002",
       "version_major": 2,
       "version_minor": 0
      },
      "text/plain": [
       "  0%|          | 0/70 [00:00<?, ?it/s]"
      ]
     },
     "metadata": {},
     "output_type": "display_data"
    }
   ],
   "source": [
    "data = read_boards(data_dir)"
   ]
  },
  {
   "cell_type": "markdown",
   "id": "d3e9ddad",
   "metadata": {},
   "source": [
    "**Выбираем нужные разделы**   \n",
    "- di - столовая\n",
    "- mov - фильмы\n",
    "- ne - животные и природа\n",
    "- sci - наука\n",
    "- pr - программирование"
   ]
  },
  {
   "cell_type": "code",
   "execution_count": 10,
   "id": "9b3e263e",
   "metadata": {},
   "outputs": [],
   "source": [
    "data_small = select_boards(data, ['pr', 'di', 'mov', 'ne', 'sci'])\n",
    "# ['o', 'soc', 'media', 'r', 'int', 'po', 'news', 'hry', 'au', 'bi', 'biz', 'bo', 'c', 'cc', 'em', 'fa', 'fiz', 'fl', 'ftb', 'hh', 'hi', 'me', 'mg',\n",
    "# 'mlp', 'mo', 'mov', 'mu', 'ne', 'psy', 're', 'sci', 'sf', 'sn', 'sp', 'spc', 'tv', 'un', 'w', 'wh', 'wm', 'wp', 'zog', 'de', 'di', 'diy', 'izd', 'mus', 'pa',\n",
    "# 'p', 'wrk', 'trv', 'gd', 'hw', 'mobi', 'pr', 'ra', 's', 't', 'web', 'bg', 'cg', 'gsg', 'tes', 'v', 'vg', 'wr', 'a', 'fd', 'ja', 'ma']"
   ]
  },
  {
   "cell_type": "code",
   "execution_count": 11,
   "id": "6b763d44",
   "metadata": {},
   "outputs": [],
   "source": [
    "CLASS_COUNT = len(data_small)"
   ]
  },
  {
   "cell_type": "code",
   "execution_count": 12,
   "id": "1d80bd89",
   "metadata": {},
   "outputs": [
    {
     "data": {
      "text/plain": [
       "5"
      ]
     },
     "execution_count": 12,
     "metadata": {},
     "output_type": "execute_result"
    }
   ],
   "source": [
    "CLASS_COUNT"
   ]
  },
  {
   "cell_type": "code",
   "execution_count": 13,
   "id": "aef8688f",
   "metadata": {},
   "outputs": [],
   "source": [
    "del data # это больше не нужно, память лишней не бывает"
   ]
  },
  {
   "cell_type": "markdown",
   "id": "b2971865",
   "metadata": {},
   "source": [
    "**Делим на слова, чистим от всякого мусора, предлогов и т.п.**"
   ]
  },
  {
   "cell_type": "code",
   "execution_count": 14,
   "id": "9bb2c4c8",
   "metadata": {},
   "outputs": [],
   "source": [
    "def is_good_word(word, stops, htmls, boards_mentioning):\n",
    "    if word not in stops and word not in htmls and word not in boards_mentioning:\n",
    "        return True\n",
    "    return False"
   ]
  },
  {
   "cell_type": "code",
   "execution_count": 15,
   "id": "69e30751",
   "metadata": {},
   "outputs": [],
   "source": [
    "def data_to_array(data):\n",
    "    messages = []\n",
    "    labels = []\n",
    "    for d in data:\n",
    "        for m in d['messages']:\n",
    "            labels.append(d['board_short_name'])\n",
    "            messages.append(m)\n",
    "    return [messages, labels]"
   ]
  },
  {
   "cell_type": "code",
   "execution_count": 16,
   "id": "64ab0ad8",
   "metadata": {},
   "outputs": [],
   "source": [
    "data_arr = data_to_array(data_small)"
   ]
  },
  {
   "cell_type": "code",
   "execution_count": 17,
   "id": "faed55c9",
   "metadata": {},
   "outputs": [
    {
     "data": {
      "text/plain": [
       "127943"
      ]
     },
     "execution_count": 17,
     "metadata": {},
     "output_type": "execute_result"
    }
   ],
   "source": [
    "len(data_arr[0])"
   ]
  },
  {
   "cell_type": "code",
   "execution_count": 18,
   "id": "9e7f767c",
   "metadata": {},
   "outputs": [],
   "source": [
    "def clean_data_arr(data_arr):\n",
    "    new_messages = []\n",
    "    for m in tqdm(data_arr[0]):\n",
    "        new_m = []\n",
    "        for w in m.split(' '):\n",
    "            if is_good_word(w, stops, htmls, boards_mentioning):\n",
    "                new_m.append(w)\n",
    "        new_messages.append(new_m)\n",
    "    return [new_messages, data_arr[1]]"
   ]
  },
  {
   "cell_type": "code",
   "execution_count": 19,
   "id": "dd70a6a1",
   "metadata": {},
   "outputs": [
    {
     "data": {
      "application/vnd.jupyter.widget-view+json": {
       "model_id": "83754b9717b44640931381806af3ed70",
       "version_major": 2,
       "version_minor": 0
      },
      "text/plain": [
       "  0%|          | 0/127943 [00:00<?, ?it/s]"
      ]
     },
     "metadata": {},
     "output_type": "display_data"
    }
   ],
   "source": [
    "clear_data_arr = clean_data_arr(data_arr)"
   ]
  },
  {
   "cell_type": "code",
   "execution_count": 20,
   "id": "52100f12",
   "metadata": {},
   "outputs": [
    {
     "data": {
      "text/plain": [
       "(127943, 127943)"
      ]
     },
     "execution_count": 20,
     "metadata": {},
     "output_type": "execute_result"
    }
   ],
   "source": [
    "len(clear_data_arr[0]), len(clear_data_arr[1])"
   ]
  },
  {
   "cell_type": "markdown",
   "id": "f6a34487",
   "metadata": {},
   "source": [
    "**Убираем слишком короткие сообщения**"
   ]
  },
  {
   "cell_type": "code",
   "execution_count": 21,
   "id": "e3265cd9",
   "metadata": {},
   "outputs": [],
   "source": [
    "def remove_too_short_messages(data_arr, min_words):\n",
    "    new_messages = []\n",
    "    new_labels = []\n",
    "    for i, m in tqdm(enumerate(data_arr[0])):\n",
    "        if len(m) >= min_words:\n",
    "            new_messages.append(m)\n",
    "            new_labels.append(data_arr[1][i])\n",
    "    return [new_messages, new_labels]"
   ]
  },
  {
   "cell_type": "code",
   "execution_count": 22,
   "id": "c670cb2f",
   "metadata": {},
   "outputs": [
    {
     "data": {
      "application/vnd.jupyter.widget-view+json": {
       "model_id": "5eeda1103c3f406c9e38964c0912f0fe",
       "version_major": 2,
       "version_minor": 0
      },
      "text/plain": [
       "0it [00:00, ?it/s]"
      ]
     },
     "metadata": {},
     "output_type": "display_data"
    }
   ],
   "source": [
    "clear_data_arr = remove_too_short_messages(clear_data_arr, MIN_WORDS)"
   ]
  },
  {
   "cell_type": "code",
   "execution_count": 23,
   "id": "4f8c14d0",
   "metadata": {},
   "outputs": [
    {
     "data": {
      "text/plain": [
       "(92839, 92839)"
      ]
     },
     "execution_count": 23,
     "metadata": {},
     "output_type": "execute_result"
    }
   ],
   "source": [
    "len(clear_data_arr[0]), len(clear_data_arr[1])"
   ]
  },
  {
   "cell_type": "markdown",
   "id": "9385df2c",
   "metadata": {},
   "source": [
    "**Что по балансу?**"
   ]
  },
  {
   "cell_type": "code",
   "execution_count": 24,
   "id": "210e0082",
   "metadata": {},
   "outputs": [
    {
     "data": {
      "text/plain": [
       "(array([24872.,     0., 28075.,     0.,     0., 23645.,     0.,  7579.,\n",
       "            0.,  8668.]),\n",
       " array([0. , 0.4, 0.8, 1.2, 1.6, 2. , 2.4, 2.8, 3.2, 3.6, 4. ]),\n",
       " <BarContainer object of 10 artists>)"
      ]
     },
     "execution_count": 24,
     "metadata": {},
     "output_type": "execute_result"
    },
    {
     "data": {
      "image/png": "[encoded data removed]",
      "text/plain": [
       "<Figure size 432x288 with 1 Axes>"
      ]
     },
     "metadata": {
      "needs_background": "light"
     },
     "output_type": "display_data"
    }
   ],
   "source": [
    "plt.hist(clear_data_arr[1])"
   ]
  },
  {
   "cell_type": "markdown",
   "id": "403b254d",
   "metadata": {},
   "source": [
    "Классы не сбалансированы"
   ]
  },
  {
   "cell_type": "code",
   "execution_count": 25,
   "id": "2b893e36",
   "metadata": {},
   "outputs": [],
   "source": [
    "def balance_data(data_arr, max_samples_per_class=None):\n",
    "    # shuffle together\n",
    "    tmp = list(zip(data_arr[0], data_arr[1]))\n",
    "    random.shuffle(tmp)\n",
    "    data_arr[0], data_arr[1] = zip(*tmp)\n",
    "    \n",
    "    distr_counters = dict()\n",
    "    if max_samples_per_class is None:\n",
    "        for y in data_arr[1]:\n",
    "            if y not in distr_counters.keys():\n",
    "                distr_counters[y] = 0\n",
    "            else:\n",
    "                distr_counters[y] += 1\n",
    "        max_samples_per_class = min(distr_counters.values())\n",
    "    \n",
    "    xx = []\n",
    "    yy = []\n",
    "    counters = dict()\n",
    "    for x, y in zip(data_arr[0], data_arr[1]):\n",
    "        if y not in counters.keys():\n",
    "            counters[y] = 0\n",
    "            xx.append(x)\n",
    "            yy.append(y)\n",
    "        else:\n",
    "            if counters[y] <= max_samples_per_class:\n",
    "                counters[y] += 1\n",
    "                xx.append(x)\n",
    "                yy.append(y)\n",
    "    return [xx, yy]"
   ]
  },
  {
   "cell_type": "code",
   "execution_count": 26,
   "id": "2d6f9241",
   "metadata": {},
   "outputs": [],
   "source": [
    "clear_data_arr = balance_data(clear_data_arr, MAX_SAMPLES_PER_CLASS)"
   ]
  },
  {
   "cell_type": "code",
   "execution_count": 27,
   "id": "2510809b",
   "metadata": {},
   "outputs": [
    {
     "data": {
      "text/plain": [
       "(array([7580.,    0., 7579.,    0.,    0., 7580.,    0., 7580.,    0.,\n",
       "        7580.]),\n",
       " array([0. , 0.4, 0.8, 1.2, 1.6, 2. , 2.4, 2.8, 3.2, 3.6, 4. ]),\n",
       " <BarContainer object of 10 artists>)"
      ]
     },
     "execution_count": 27,
     "metadata": {},
     "output_type": "execute_result"
    },
    {
     "data": {
      "image/png": "[encoded data removed]",
      "text/plain": [
       "<Figure size 432x288 with 1 Axes>"
      ]
     },
     "metadata": {
      "needs_background": "light"
     },
     "output_type": "display_data"
    }
   ],
   "source": [
    "plt.hist(clear_data_arr[1])"
   ]
  },
  {
   "cell_type": "markdown",
   "id": "52b00c7d",
   "metadata": {},
   "source": [
    "Теперь сбалансированы (андерсемплинг)"
   ]
  },
  {
   "cell_type": "markdown",
   "id": "d8e8bf56",
   "metadata": {},
   "source": [
    "**Переводим слова в начальную форму**"
   ]
  },
  {
   "cell_type": "code",
   "execution_count": 28,
   "id": "3704c9a4",
   "metadata": {},
   "outputs": [],
   "source": [
    "def to_initial_form(data_arr):\n",
    "    for i in tqdm(range(len(data_arr[0]))):\n",
    "        for j in range(len(data_arr[0][i])):\n",
    "            data_arr[0][i][j] = morph.parse(data_arr[0][i][j])[0].normal_form\n",
    "    return data_arr"
   ]
  },
  {
   "cell_type": "code",
   "execution_count": 29,
   "id": "56e7ef79",
   "metadata": {},
   "outputs": [
    {
     "data": {
      "application/vnd.jupyter.widget-view+json": {
       "model_id": "0a12ca4153c34a9f8234f9b0ebf11310",
       "version_major": 2,
       "version_minor": 0
      },
      "text/plain": [
       "  0%|          | 0/37899 [00:00<?, ?it/s]"
      ]
     },
     "metadata": {},
     "output_type": "display_data"
    }
   ],
   "source": [
    "if TO_INITIAL_FORM: clear_data_arr = to_initial_form(clear_data_arr)"
   ]
  },
  {
   "cell_type": "markdown",
   "id": "e2c9fa5c",
   "metadata": {},
   "source": [
    "**Кодируем сообщения, проверяем возможность декодировать**"
   ]
  },
  {
   "cell_type": "markdown",
   "id": "bbadfaa2",
   "metadata": {},
   "source": [
    "Создается словарь уникальных слов {слово : число, ...}. При практическом использовании НС в него можно будет добавлять новые слова (функция в конце блокнота). Метки кодируются +- так же."
   ]
  },
  {
   "cell_type": "code",
   "execution_count": 30,
   "id": "4b495674",
   "metadata": {},
   "outputs": [],
   "source": [
    "def encode_messages(data_arr):\n",
    "    words = []\n",
    "    for m in data_arr[0]:\n",
    "        words += m\n",
    "    words = list(set(words))\n",
    "    ddict = dict()\n",
    "    for i, w in enumerate(words):\n",
    "        ddict[w] = i+1\n",
    "    for i in range(len(data_arr[0])):\n",
    "        for j in range(len(data_arr[0][i])):\n",
    "            data_arr[0][i][j] = ddict[data_arr[0][i][j]]\n",
    "    res_dict = {v: k for k, v in ddict.items()}\n",
    "    res_dict[0] = ''\n",
    "    return data_arr, res_dict"
   ]
  },
  {
   "cell_type": "code",
   "execution_count": 31,
   "id": "af5e72fa",
   "metadata": {},
   "outputs": [],
   "source": [
    "def encode_labels(data_arr):\n",
    "    ddict = dict()\n",
    "    keys = list(set(data_arr[1]))\n",
    "    for i, k in enumerate(keys):\n",
    "        ddict[k] = i\n",
    "    for i in range(len(data_arr[1])):\n",
    "        data_arr[1][i] = ddict[data_arr[1][i]]\n",
    "    return data_arr, {v: k for k, v in ddict.items()}"
   ]
  },
  {
   "cell_type": "code",
   "execution_count": 32,
   "id": "ed2243ec",
   "metadata": {},
   "outputs": [],
   "source": [
    "def decode_message(encoded, messages_dict, npmode=True):\n",
    "    if npmode:\n",
    "        encoded = encoded.tolist()\n",
    "    return ' '.join([messages_dict[int(v)] for v in encoded]).strip()\n",
    "\n",
    "def decode_label(encoded, labels_dict):\n",
    "    return labels_dict[encoded]"
   ]
  },
  {
   "cell_type": "code",
   "execution_count": 33,
   "id": "3f79247a",
   "metadata": {},
   "outputs": [],
   "source": [
    "clear_data_arr, messages_dict = encode_messages(clear_data_arr)\n",
    "clear_data_arr, labels_dict = encode_labels(clear_data_arr)"
   ]
  },
  {
   "cell_type": "code",
   "execution_count": 36,
   "id": "02cb6315",
   "metadata": {},
   "outputs": [
    {
     "data": {
      "text/plain": [
       "'анонас помочь сегодня вспомнить один вещь который слышать лекция утверждать правдивость хотеть найти источник помнить ещё это услышать общий человек говорить дух младенец мочь кричать болеть просто снизить вероятность секс родитель такой образ избавить конкуренция родительский внимание вид брат сестра возможно говориться обезьяна точно помнить такой слышать вне зависимость правда это подсказать мочь теория ознакомиться мб это услышать вячеслав дубынин ведущий зверь точно уверенный просто мало такой лекция слушать сапольский точно это пытаться переслушивать ролик тема находить точно это слышать вопрос надеяться ваш помощь чета зациклиться хотеть убедиться ошизеть ключевой слово никак гуглиться мочь это выдумать это шизый теория равно подсказать автор спасибо'"
      ]
     },
     "execution_count": 36,
     "metadata": {},
     "output_type": "execute_result"
    }
   ],
   "source": [
    "decode_message(clear_data_arr[0][11], messages_dict, npmode=False)"
   ]
  },
  {
   "cell_type": "markdown",
   "id": "2506c73d",
   "metadata": {},
   "source": [
    "**Смотрим, сколько слов содержат сообщения**"
   ]
  },
  {
   "cell_type": "code",
   "execution_count": 37,
   "id": "4ed89b8f",
   "metadata": {},
   "outputs": [],
   "source": [
    "def plot_words_count_distr(data_arr):\n",
    "    counts = [len(m) for m in data_arr[0]]\n",
    "    counter = Counter(counts)\n",
    "    plt.bar(counter.keys(), counter.values())"
   ]
  },
  {
   "cell_type": "code",
   "execution_count": 38,
   "id": "05d3bbd0",
   "metadata": {},
   "outputs": [
    {
     "data": {
      "image/png": "[encoded data removed]",
      "text/plain": [
       "<Figure size 432x288 with 1 Axes>"
      ]
     },
     "metadata": {
      "needs_background": "light"
     },
     "output_type": "display_data"
    }
   ],
   "source": [
    "plot_words_count_distr(clear_data_arr)"
   ]
  },
  {
   "cell_type": "code",
   "execution_count": 39,
   "id": "d64dbf7a",
   "metadata": {},
   "outputs": [
    {
     "data": {
      "text/plain": [
       "(1001, 5)"
      ]
     },
     "execution_count": 39,
     "metadata": {},
     "output_type": "execute_result"
    }
   ],
   "source": [
    "maxlen = -1\n",
    "minlen = 9999999999\n",
    "for m in clear_data_arr[0]:\n",
    "    if len(m) > maxlen:\n",
    "        maxlen = len(m)\n",
    "    if len(m) < minlen:\n",
    "        minlen = len(m)\n",
    "maxlen, minlen"
   ]
  },
  {
   "cell_type": "markdown",
   "id": "8e622dd6",
   "metadata": {},
   "source": [
    "**Приводим векторы сообщений к единой длине**"
   ]
  },
  {
   "cell_type": "code",
   "execution_count": 40,
   "id": "91f080d0",
   "metadata": {},
   "outputs": [],
   "source": [
    "def equalize_number_of_words(data_arr, words_count):\n",
    "    for i in tqdm(range(len(data_arr[0]))):\n",
    "        if (len(data_arr[0][i]) < words_count):\n",
    "            data_arr[0][i] = data_arr[0][i] + [0]*(words_count-len(data_arr[0][i]))\n",
    "        else:\n",
    "            data_arr[0][i] = data_arr[0][i][:words_count]\n",
    "    return data_arr"
   ]
  },
  {
   "cell_type": "code",
   "execution_count": 41,
   "id": "104cb7cf",
   "metadata": {},
   "outputs": [
    {
     "data": {
      "application/vnd.jupyter.widget-view+json": {
       "model_id": "d70c681faf1645ebb0f2e4c6f71d74d3",
       "version_major": 2,
       "version_minor": 0
      },
      "text/plain": [
       "  0%|          | 0/37899 [00:00<?, ?it/s]"
      ]
     },
     "metadata": {},
     "output_type": "display_data"
    }
   ],
   "source": [
    "clear_data_arr = equalize_number_of_words(clear_data_arr, MESSAGE_LEN) # 200"
   ]
  },
  {
   "cell_type": "code",
   "execution_count": 42,
   "id": "32c70ba1",
   "metadata": {},
   "outputs": [
    {
     "data": {
      "text/plain": [
       "(50, 50)"
      ]
     },
     "execution_count": 42,
     "metadata": {},
     "output_type": "execute_result"
    }
   ],
   "source": [
    "maxlen = -1\n",
    "minlen = 9999999999\n",
    "for m in clear_data_arr[0]:\n",
    "    if len(m) > maxlen:\n",
    "        maxlen = len(m)\n",
    "    if len(m) < minlen:\n",
    "        minlen = len(m)\n",
    "maxlen, minlen"
   ]
  },
  {
   "cell_type": "markdown",
   "id": "21e5d2da",
   "metadata": {},
   "source": [
    "**List -> np.array**"
   ]
  },
  {
   "cell_type": "code",
   "execution_count": 43,
   "id": "c548c14e",
   "metadata": {},
   "outputs": [],
   "source": [
    "def conver_to_np(data_arr):\n",
    "    labels = np.array(data_arr[1], dtype='float32')\n",
    "    msgs = []\n",
    "    for m in tqdm(data_arr[0]):\n",
    "        msgs.append(np.array(m, dtype='float32'))\n",
    "    return [np.array(msgs), np.array(labels)]"
   ]
  },
  {
   "cell_type": "code",
   "execution_count": 44,
   "id": "f6588f3b",
   "metadata": {},
   "outputs": [
    {
     "data": {
      "application/vnd.jupyter.widget-view+json": {
       "model_id": "da37d380d24742ebbbfec85ebeeb8659",
       "version_major": 2,
       "version_minor": 0
      },
      "text/plain": [
       "  0%|          | 0/37899 [00:00<?, ?it/s]"
      ]
     },
     "metadata": {},
     "output_type": "display_data"
    }
   ],
   "source": [
    "clear_data_arr = conver_to_np(clear_data_arr)"
   ]
  },
  {
   "cell_type": "code",
   "execution_count": 45,
   "id": "e68622ae",
   "metadata": {},
   "outputs": [
    {
     "data": {
      "text/plain": [
       "(37899, 50)"
      ]
     },
     "execution_count": 45,
     "metadata": {},
     "output_type": "execute_result"
    }
   ],
   "source": [
    "clear_data_arr[0].shape"
   ]
  },
  {
   "cell_type": "code",
   "execution_count": 46,
   "id": "df6fd0b7",
   "metadata": {},
   "outputs": [
    {
     "data": {
      "text/plain": [
       "(37899,)"
      ]
     },
     "execution_count": 46,
     "metadata": {},
     "output_type": "execute_result"
    }
   ],
   "source": [
    "clear_data_arr[1].shape"
   ]
  },
  {
   "cell_type": "markdown",
   "id": "1be59747",
   "metadata": {},
   "source": [
    "**Train, validation, test**"
   ]
  },
  {
   "cell_type": "code",
   "execution_count": 47,
   "id": "a357423f",
   "metadata": {},
   "outputs": [],
   "source": [
    "X_train, X_test, y_train, y_test = train_test_split(clear_data_arr[0], clear_data_arr[1], test_size=0.3, random_state=42)"
   ]
  },
  {
   "cell_type": "code",
   "execution_count": 48,
   "id": "1779519f",
   "metadata": {},
   "outputs": [],
   "source": [
    "X_test, X_val, y_test, y_val = train_test_split(X_test, y_test, test_size=0.3, random_state=42)"
   ]
  },
  {
   "cell_type": "code",
   "execution_count": 49,
   "id": "a3932d29",
   "metadata": {},
   "outputs": [
    {
     "data": {
      "text/plain": [
       "((26529, 50), (26529,))"
      ]
     },
     "execution_count": 49,
     "metadata": {},
     "output_type": "execute_result"
    }
   ],
   "source": [
    "X_train.shape, y_train.shape"
   ]
  },
  {
   "cell_type": "code",
   "execution_count": 50,
   "id": "e66c39f8",
   "metadata": {},
   "outputs": [
    {
     "data": {
      "text/plain": [
       "((3411, 50), (3411,))"
      ]
     },
     "execution_count": 50,
     "metadata": {},
     "output_type": "execute_result"
    }
   ],
   "source": [
    "X_val.shape, y_val.shape"
   ]
  },
  {
   "cell_type": "code",
   "execution_count": 51,
   "id": "76301129",
   "metadata": {},
   "outputs": [
    {
     "data": {
      "text/plain": [
       "((7959, 50), (7959,))"
      ]
     },
     "execution_count": 51,
     "metadata": {},
     "output_type": "execute_result"
    }
   ],
   "source": [
    "X_test.shape, y_test.shape"
   ]
  },
  {
   "cell_type": "markdown",
   "id": "b82aaf05",
   "metadata": {},
   "source": [
    "## Model"
   ]
  },
  {
   "cell_type": "markdown",
   "id": "b220b6ae",
   "metadata": {},
   "source": [
    "Чтобы не останавливать оверфитинг вручную:"
   ]
  },
  {
   "cell_type": "code",
   "execution_count": 8,
   "id": "52f60970",
   "metadata": {},
   "outputs": [],
   "source": [
    "early_stopping = tf.keras.callbacks.EarlyStopping(\n",
    "    monitor='val_loss',\n",
    "    patience=5, # 5 эпох без падения лосса на валидации -> стоп\n",
    "    mode='min', \n",
    "    restore_best_weights=True\n",
    ")"
   ]
  },
  {
   "cell_type": "code",
   "execution_count": 4,
   "id": "003fb0bd",
   "metadata": {},
   "outputs": [],
   "source": [
    "emb_size = 64 # размер эмбединга"
   ]
  },
  {
   "cell_type": "code",
   "execution_count": 61,
   "id": "f2d8d229",
   "metadata": {},
   "outputs": [],
   "source": [
    "input = tf.keras.Input(shape=(X_train.shape[1]))\n",
    "emb = layers.Embedding(input_dim=len(messages_dict.keys()), output_dim=emb_size)(input)\n",
    "gru = layers.GRU(16, return_sequences=True)(emb)\n",
    "conv = layers.Conv1D(4, 8, strides=2)(gru)\n",
    "flat = layers.Flatten()(conv)\n",
    "dense = layers.Dense(8, activation='relu')(flat)\n",
    "drop = layers.Dropout(0.3)(dense)\n",
    "output = layers.Dense(CLASS_COUNT, activation='softmax')(drop)"
   ]
  },
  {
   "cell_type": "code",
   "execution_count": 62,
   "id": "f7298bbc",
   "metadata": {},
   "outputs": [],
   "source": [
    "model = tf.keras.Model(\n",
    "    inputs=[input],\n",
    "    outputs=[output],\n",
    ")"
   ]
  },
  {
   "cell_type": "code",
   "execution_count": 63,
   "id": "27b2c25a",
   "metadata": {},
   "outputs": [
    {
     "name": "stdout",
     "output_type": "stream",
     "text": [
      "Model: \"model_1\"\n",
      "_________________________________________________________________\n",
      " Layer (type)                Output Shape              Param #   \n",
      "=================================================================\n",
      " input_2 (InputLayer)        [(None, 50)]              0         \n",
      "                                                                 \n",
      " embedding_1 (Embedding)     (None, 50, 64)            5108800   \n",
      "                                                                 \n",
      " gru_1 (GRU)                 (None, 50, 16)            3936      \n",
      "                                                                 \n",
      " conv1d_1 (Conv1D)           (None, 22, 4)             516       \n",
      "                                                                 \n",
      " flatten_1 (Flatten)         (None, 88)                0         \n",
      "                                                                 \n",
      " dense_2 (Dense)             (None, 8)                 712       \n",
      "                                                                 \n",
      " dropout_1 (Dropout)         (None, 8)                 0         \n",
      "                                                                 \n",
      " dense_3 (Dense)             (None, 5)                 45        \n",
      "                                                                 \n",
      "=================================================================\n",
      "Total params: 5,114,009\n",
      "Trainable params: 5,114,009\n",
      "Non-trainable params: 0\n",
      "_________________________________________________________________\n"
     ]
    }
   ],
   "source": [
    "model.summary()"
   ]
  },
  {
   "cell_type": "markdown",
   "id": "2037556c",
   "metadata": {},
   "source": [
    "Да, она огромная из-за большого эмбединга. Но она работает."
   ]
  },
  {
   "cell_type": "code",
   "execution_count": 64,
   "id": "7413bedb",
   "metadata": {},
   "outputs": [],
   "source": [
    "model.compile(optimizer='adam',\n",
    "              loss=tf.keras.losses.SparseCategoricalCrossentropy(from_logits=False),\n",
    "              metrics=['accuracy'])"
   ]
  },
  {
   "cell_type": "code",
   "execution_count": 65,
   "id": "fa298551",
   "metadata": {},
   "outputs": [
    {
     "name": "stdout",
     "output_type": "stream",
     "text": [
      "Epoch 1/100\n",
      "830/830 [==============================] - 10s 10ms/step - loss: 1.2877 - accuracy: 0.4266 - val_loss: 0.8294 - val_accuracy: 0.7024\n",
      "Epoch 2/100\n",
      "830/830 [==============================] - 8s 10ms/step - loss: 0.7082 - accuracy: 0.7318 - val_loss: 0.6451 - val_accuracy: 0.7672\n",
      "Epoch 3/100\n",
      "830/830 [==============================] - 8s 10ms/step - loss: 0.4481 - accuracy: 0.8357 - val_loss: 0.6867 - val_accuracy: 0.7746\n",
      "Epoch 4/100\n",
      "830/830 [==============================] - 8s 10ms/step - loss: 0.3266 - accuracy: 0.8806 - val_loss: 0.8514 - val_accuracy: 0.7737\n",
      "Epoch 5/100\n",
      "830/830 [==============================] - 8s 10ms/step - loss: 0.2460 - accuracy: 0.9078 - val_loss: 0.9870 - val_accuracy: 0.7743\n",
      "Epoch 6/100\n",
      "830/830 [==============================] - 8s 10ms/step - loss: 0.2080 - accuracy: 0.9236 - val_loss: 1.3035 - val_accuracy: 0.7719\n",
      "Epoch 7/100\n",
      "830/830 [==============================] - 8s 10ms/step - loss: 0.1873 - accuracy: 0.9339 - val_loss: 1.4021 - val_accuracy: 0.7672\n"
     ]
    }
   ],
   "source": [
    "history = model.fit(X_train, y_train, epochs=100, validation_data=(X_val, y_val), callbacks=[early_stopping])"
   ]
  },
  {
   "cell_type": "markdown",
   "id": "14c0ac8e",
   "metadata": {},
   "source": [
    "**Train & validation Loss**"
   ]
  },
  {
   "cell_type": "code",
   "execution_count": 66,
   "id": "d3c32318",
   "metadata": {},
   "outputs": [
    {
     "data": {
      "text/plain": [
       "<matplotlib.legend.Legend at 0x1dd9d186640>"
      ]
     },
     "execution_count": 66,
     "metadata": {},
     "output_type": "execute_result"
    },
    {
     "data": {
      "image/png": "[encoded data removed]",
      "text/plain": [
       "<Figure size 432x288 with 1 Axes>"
      ]
     },
     "metadata": {
      "needs_background": "light"
     },
     "output_type": "display_data"
    }
   ],
   "source": [
    "plt.plot(history.history['loss'], label='loss')\n",
    "plt.plot(history.history['val_loss'], label = 'val_loss')\n",
    "plt.xlabel('Epoch')\n",
    "plt.ylabel('Loss')\n",
    "plt.ylim([0.0, 3])\n",
    "plt.legend(loc='lower right')"
   ]
  },
  {
   "cell_type": "markdown",
   "id": "1099a1f1",
   "metadata": {},
   "source": [
    "Тут некрасиво, но по accuracy сойдет"
   ]
  },
  {
   "cell_type": "markdown",
   "id": "d8553bc6",
   "metadata": {},
   "source": [
    "**Train & validation Accuracy**"
   ]
  },
  {
   "cell_type": "code",
   "execution_count": 67,
   "id": "0727e1cb",
   "metadata": {},
   "outputs": [
    {
     "data": {
      "text/plain": [
       "<matplotlib.legend.Legend at 0x1de1b097f10>"
      ]
     },
     "execution_count": 67,
     "metadata": {},
     "output_type": "execute_result"
    },
    {
     "data": {
      "image/png": "[encoded data removed]",
      "text/plain": [
       "<Figure size 432x288 with 1 Axes>"
      ]
     },
     "metadata": {
      "needs_background": "light"
     },
     "output_type": "display_data"
    }
   ],
   "source": [
    "plt.plot(history.history['accuracy'], label='accuracy')\n",
    "plt.plot(history.history['val_accuracy'], label = 'val_accuracy')\n",
    "plt.xlabel('Epoch')\n",
    "plt.ylabel('Accuracy')\n",
    "plt.ylim([0.0, 1])\n",
    "plt.legend(loc='lower right')"
   ]
  },
  {
   "cell_type": "markdown",
   "id": "f06db3a9",
   "metadata": {},
   "source": [
    "Нуууу, переобучение, конечно, присутствует, но..."
   ]
  },
  {
   "cell_type": "markdown",
   "id": "cbd1edbb",
   "metadata": {},
   "source": [
    "## Test"
   ]
  },
  {
   "cell_type": "markdown",
   "id": "be0319b0",
   "metadata": {},
   "source": [
    "**Метрики**"
   ]
  },
  {
   "cell_type": "code",
   "execution_count": 68,
   "id": "99589a38",
   "metadata": {},
   "outputs": [
    {
     "name": "stdout",
     "output_type": "stream",
     "text": [
      "249/249 [==============================] - 1s 2ms/step\n"
     ]
    }
   ],
   "source": [
    "predict = np.argmax(model.predict(X_test), axis=1)"
   ]
  },
  {
   "cell_type": "code",
   "execution_count": 69,
   "id": "8aef5fe6",
   "metadata": {},
   "outputs": [
    {
     "name": "stdout",
     "output_type": "stream",
     "text": [
      "              precision    recall  f1-score   support\n",
      "\n",
      "         0.0       0.71      0.86      0.78      1566\n",
      "         1.0       0.79      0.69      0.74      1604\n",
      "         2.0       0.86      0.75      0.80      1578\n",
      "         3.0       0.83      0.73      0.78      1625\n",
      "         4.0       0.72      0.84      0.77      1586\n",
      "\n",
      "    accuracy                           0.77      7959\n",
      "   macro avg       0.78      0.77      0.77      7959\n",
      "weighted avg       0.78      0.77      0.77      7959\n",
      "\n"
     ]
    }
   ],
   "source": [
    "print(classification_report(y_test, predict))"
   ]
  },
  {
   "cell_type": "markdown",
   "id": "8f3a6b1a",
   "metadata": {},
   "source": [
    "Метрики вышли очень даже неплохие. Я удивлен, что тот бред, который я напарсил, имеет какой-то смысл."
   ]
  },
  {
   "cell_type": "markdown",
   "id": "1afff1c7",
   "metadata": {},
   "source": [
    "**Матрица рассогласования**"
   ]
  },
  {
   "cell_type": "code",
   "execution_count": 70,
   "id": "9406e924",
   "metadata": {},
   "outputs": [
    {
     "data": {
      "image/png": "[encoded data removed]",
      "text/plain": [
       "<Figure size 400x400 with 2 Axes>"
      ]
     },
     "metadata": {
      "needs_background": "light"
     },
     "output_type": "display_data"
    }
   ],
   "source": [
    "fig = plt.figure(figsize=(5, 5), dpi=80)\n",
    "M = confusion_matrix(predict, y_test)\n",
    "plt.imshow(M, interpolation = 'nearest')\n",
    "plt.set_cmap('binary')\n",
    "plt.xticks(range(CLASS_COUNT))\n",
    "plt.yticks(range(CLASS_COUNT))\n",
    "plt.xlabel(\"true label\")\n",
    "plt.ylabel(\"predicted label\")\n",
    "plt.colorbar()\n",
    "pass"
   ]
  },
  {
   "cell_type": "markdown",
   "id": "e0fbbc69",
   "metadata": {},
   "source": [
    "Красиво"
   ]
  },
  {
   "cell_type": "code",
   "execution_count": 71,
   "id": "18dc98dd",
   "metadata": {},
   "outputs": [
    {
     "name": "stdout",
     "output_type": "stream",
     "text": [
      "0 di\n",
      "1 mov\n",
      "2 ne\n",
      "3 sci\n",
      "4 pr\n"
     ]
    }
   ],
   "source": [
    "for i in range(CLASS_COUNT):\n",
    "    print(i, decode_label(i, labels_dict))"
   ]
  },
  {
   "cell_type": "markdown",
   "id": "8440efe0",
   "metadata": {},
   "source": [
    "- di - столовая\n",
    "- mov - фильмы\n",
    "- ne - животные и природа\n",
    "- sci - наука\n",
    "- pr - программирование"
   ]
  },
  {
   "cell_type": "markdown",
   "id": "feb25521",
   "metadata": {},
   "source": [
    "**Пробуем написать свое сообщение**"
   ]
  },
  {
   "cell_type": "code",
   "execution_count": 74,
   "id": "fb6b42c2",
   "metadata": {},
   "outputs": [],
   "source": [
    "def encode_new_message(message, old_dict, words_count):\n",
    "    old_dict = {v: k for k, v in old_dict.items()}\n",
    "    maxvalue = max(old_dict.values())\n",
    "    words = message.lower().split(' ')\n",
    "    clear_words = []\n",
    "    for w in words:\n",
    "        if is_good_word(w, stops, htmls, boards_mentioning):\n",
    "            clear_words.append(w)\n",
    "    \n",
    "    res_words = []\n",
    "    for i, w in enumerate(clear_words):\n",
    "        if w not in old_dict.keys():\n",
    "            old_dict[w] = maxvalue + i + 1\n",
    "        res_words.append(old_dict[w])\n",
    "    if len(res_words) < words_count:\n",
    "        res_words = res_words + [0] * (words_count - len(res_words))\n",
    "    else:\n",
    "        res_words = res_words[:words_count]\n",
    "    old_dict = {v: k for k, v in old_dict.items()}\n",
    "    try:\n",
    "        old_dict[0] = ''\n",
    "    except:\n",
    "        pass\n",
    "    return np.array(res_words, dtype='float32'), old_dict"
   ]
  },
  {
   "cell_type": "code",
   "execution_count": 75,
   "id": "e5f2bc66",
   "metadata": {},
   "outputs": [],
   "source": [
    "test_new_message, messages_dict = encode_new_message(\n",
    "    'Python что такое как его учить Django',\n",
    "    messages_dict,\n",
    "    MESSAGE_LEN)"
   ]
  },
  {
   "cell_type": "code",
   "execution_count": 76,
   "id": "b5eb5cbf",
   "metadata": {},
   "outputs": [
    {
     "data": {
      "text/plain": [
       "((50,), (7959, 50))"
      ]
     },
     "execution_count": 76,
     "metadata": {},
     "output_type": "execute_result"
    }
   ],
   "source": [
    "test_new_message.shape, X_test.shape"
   ]
  },
  {
   "cell_type": "code",
   "execution_count": 77,
   "id": "a0d8f1f7",
   "metadata": {
    "scrolled": true
   },
   "outputs": [
    {
     "name": "stdout",
     "output_type": "stream",
     "text": [
      "1/1 [==============================] - 0s 17ms/step\n"
     ]
    }
   ],
   "source": [
    "res = np.argmax(model.predict(np.array([test_new_message])), axis=1)"
   ]
  },
  {
   "cell_type": "code",
   "execution_count": 78,
   "id": "20005084",
   "metadata": {},
   "outputs": [
    {
     "data": {
      "text/plain": [
       "'pr'"
      ]
     },
     "execution_count": 78,
     "metadata": {},
     "output_type": "execute_result"
    }
   ],
   "source": [
    "decode_label(res[0], labels_dict)"
   ]
  },
  {
   "cell_type": "markdown",
   "id": "e6dc3a92",
   "metadata": {},
   "source": [
    "Работает. (pr - программирование)"
   ]
  },
  {
   "cell_type": "markdown",
   "id": "b4176170",
   "metadata": {},
   "source": [
    "## Заключение   \n",
    "- Был собран датасет, содержащий сообщения из различных разделов 2ch.hk.\n",
    "- Из-за ограничений по железу были выбраны пять интересующих классов.\n",
    "- Данные были обработаны: удалены лишние слова, преобразованы к начальной форме, удалены слишком короткие сообщения.\n",
    "- Проведена балансировка классов.\n",
    "- Слова были закодированы.\n",
    "- Разработана и обучена нейронная сеть для классификации сообщений по разделам.\n",
    "- Несмотря на переобучение (я пытался пофиксить...) и весь бред, который пишут на борде, метрики классификации получились довольно неплохими.\n",
    "- Модель можно использовать на борде для фильтрации сообщений в общем разделе (можно подружить с tf.js) или как советник раздела при написании сообщения."
   ]
  },
  {
   "cell_type": "markdown",
   "id": "2effb7f6",
   "metadata": {},
   "source": [
    "Дальше лучше не читать!!!"
   ]
  },
  {
   "cell_type": "code",
   "execution_count": 72,
   "id": "2308de28",
   "metadata": {},
   "outputs": [],
   "source": [
    "def print_example(num, X_test, y_test, predict, messages_dict, labels_dict):\n",
    "    print(decode_message(X_test[num], messages_dict))\n",
    "    print()\n",
    "    print('True label:', decode_label(y_test[num], labels_dict))\n",
    "    print()\n",
    "    print('Predicted label:', decode_label(predict[num], labels_dict))"
   ]
  },
  {
   "cell_type": "code",
   "execution_count": 73,
   "id": "32df965c",
   "metadata": {},
   "outputs": [
    {
     "name": "stdout",
     "output_type": "stream",
     "text": [
      "это интересный внешке определить впадло ветеринар возить\n",
      "\n",
      "True label: ne\n",
      "\n",
      "Predicted label: ne\n",
      "------------------------------------------------------------------------------------------------------------------------\n",
      "лор высера камерон понятие вообще несовместимый два терминатор сюжет противоречить друг друг третий старый алкоголичка получать смска будущее\n",
      "\n",
      "True label: mov\n",
      "\n",
      "Predicted label: mov\n",
      "------------------------------------------------------------------------------------------------------------------------\n",
      "пельмень соус терияк молотый чёрный перец\n",
      "\n",
      "True label: di\n",
      "\n",
      "Predicted label: di\n",
      "------------------------------------------------------------------------------------------------------------------------\n",
      "голова вылить круг парка пробег зожникнуть ёбаный\n",
      "\n",
      "True label: di\n",
      "\n",
      "Predicted label: di\n",
      "------------------------------------------------------------------------------------------------------------------------\n",
      "кропнуть изображение убрать однородный фон\n",
      "\n",
      "True label: pr\n",
      "\n",
      "Predicted label: pr\n",
      "------------------------------------------------------------------------------------------------------------------------\n",
      "растушить свинина тушняк томатный соус бульон бульон сварить гречка смешать зажарка получиться нажористо красиво получаться всё таки доска купить фотка\n",
      "\n",
      "True label: di\n",
      "\n",
      "Predicted label: di\n",
      "------------------------------------------------------------------------------------------------------------------------\n",
      "представить рядом вы лежать смотреть красота бывать её тэйлор звать\n",
      "\n",
      "True label: mov\n",
      "\n",
      "Predicted label: mov\n",
      "------------------------------------------------------------------------------------------------------------------------\n",
      "op норкоман чтол это ты программа показывать ровный оффсет хекс очевидный\n",
      "\n",
      "True label: pr\n",
      "\n",
      "Predicted label: pr\n",
      "------------------------------------------------------------------------------------------------------------------------\n",
      "вопрос борщ проигнорировать так быть борщ варить уметь\n",
      "\n",
      "True label: sci\n",
      "\n",
      "Predicted label: di\n",
      "------------------------------------------------------------------------------------------------------------------------\n",
      "посоветовать марка шоколад дико дорога дешманский тип алёнка думать подарить девушка хотеть понравиться неловко\n",
      "\n",
      "True label: di\n",
      "\n",
      "Predicted label: di\n",
      "------------------------------------------------------------------------------------------------------------------------\n",
      "стремаяться пятёрка вряд кура брать скорее фермерский мясо хуй знать это мясо кормить оно жить предположим тот hati foods реально брать пригодный человек мясо всё равно оставаться вопрос санитарный условие производство хранение доставка пока остаться сушка время следующий поход клиника поинтересоваться мнение диетолог\n",
      "\n",
      "True label: ne\n",
      "\n",
      "Predicted label: di\n",
      "------------------------------------------------------------------------------------------------------------------------\n",
      "классический белый соус пицца это чесночный хайнц килограммовый пакет либо самодельный база пальмовый сливка сметана чеснок зелень мимо бывший работник топовый пиццерия страна\n",
      "\n",
      "True label: di\n",
      "\n",
      "Predicted label: di\n",
      "------------------------------------------------------------------------------------------------------------------------\n",
      "соевый скуф пичот замшелый команданте полностью скопировать жёрнов выдумывать суперзадротский оправдание\n",
      "\n",
      "True label: di\n",
      "\n",
      "Predicted label: di\n",
      "------------------------------------------------------------------------------------------------------------------------\n",
      "первый вроде получиться тупо нужно помазать дно масло помыть сковородка первый комок раз начинать рваться жарить чугуния тесто пара ложка масло налить\n",
      "\n",
      "True label: di\n",
      "\n",
      "Predicted label: di\n",
      "------------------------------------------------------------------------------------------------------------------------\n",
      "блядь это ахуенно двачуя мысль\n",
      "\n",
      "True label: pr\n",
      "\n",
      "Predicted label: pr\n",
      "------------------------------------------------------------------------------------------------------------------------\n",
      "поэтому говно опыт нинужный начитаться пиздунов который тяжёлый калькулятор писать выебываться нечитаемый хуетой\n",
      "\n",
      "True label: pr\n",
      "\n",
      "Predicted label: di\n",
      "------------------------------------------------------------------------------------------------------------------------\n",
      "почему никто говорить паук птицеед\n",
      "\n",
      "True label: ne\n",
      "\n",
      "Predicted label: ne\n",
      "------------------------------------------------------------------------------------------------------------------------\n",
      "задорого загуголь классификация качество сравнивать описание карточка деньга жаль купить барыга перекуп\n",
      "\n",
      "True label: di\n",
      "\n",
      "Predicted label: di\n",
      "------------------------------------------------------------------------------------------------------------------------\n",
      "почему самый умный человек планета это еврей это объяснение\n",
      "\n",
      "True label: sci\n",
      "\n",
      "Predicted label: sci\n",
      "------------------------------------------------------------------------------------------------------------------------\n",
      "ходить ночь зал битком такой помнить последний\n",
      "\n",
      "True label: mov\n",
      "\n",
      "Predicted label: di\n",
      "------------------------------------------------------------------------------------------------------------------------\n",
      "собирать максимально большой датасет накидывать слой модель такой избежать\n",
      "\n",
      "True label: pr\n",
      "\n",
      "Predicted label: pr\n",
      "------------------------------------------------------------------------------------------------------------------------\n",
      "op блядь мешать пиво ballantines пиво вискарь карл\n",
      "\n",
      "True label: mov\n",
      "\n",
      "Predicted label: sci\n",
      "------------------------------------------------------------------------------------------------------------------------\n",
      "посмотреть хофмана видео пихать гейзер датчик температура давление тд пытаться сварить нормально два слово гейзер невозможно соблюсти допустимый предел параметр мочь выбрать например помол время нормальный вылетать температура далеко градус пить жжёный резина делать очень крупный помол снизить температура следствие снижаться плотность табелткать весь вода довольно быстро выходить кроме крупный\n",
      "\n",
      "True label: di\n",
      "\n",
      "Predicted label: di\n",
      "------------------------------------------------------------------------------------------------------------------------\n",
      "домашний еда продавать сетевой продуктовый мясо курок запечь каклетка пр гарнир салат суп вьетнамский кафе куча кафех плов лагман единственный слабо развитый сегмент это пирог беляш нормальный самса частый продавать причём очень редко рядом метро огромный беляш рубль каждый фудкорт продавать\n",
      "\n",
      "True label: di\n",
      "\n",
      "Predicted label: di\n",
      "------------------------------------------------------------------------------------------------------------------------\n",
      "короче деньга брать базовый молка дешёвый хороший пробовать фильтр должный дорогой эспрессо рукомолка тип j тонкий специализация жёрнов мелкий помол сказываться кстати знать сколько стоять ранний оверпрайс\n",
      "\n",
      "True label: di\n",
      "\n",
      "Predicted label: di\n",
      "------------------------------------------------------------------------------------------------------------------------\n",
      "движение скорость выше скорость свет возможно верно\n",
      "\n",
      "True label: sci\n",
      "\n",
      "Predicted label: sci\n",
      "------------------------------------------------------------------------------------------------------------------------\n",
      "нюх собака данные исследование собака запах определять возраст пол настроение другой собака специально обученный собака находить запах взрывчатка наркотик человек ориентироваться пространство первый очередь помощь зрение собака помощь обоняние запах главный путеводитель обратить внимание нюх собака тысяча тонкий человеческий данные национальный институт стандарт технология сша собака обнаружить некоторый соединение концентрация\n",
      "\n",
      "True label: ne\n",
      "\n",
      "Predicted label: ne\n",
      "------------------------------------------------------------------------------------------------------------------------\n",
      "op вопрос тема закрепить тред хуй сосать\n",
      "\n",
      "True label: sci\n",
      "\n",
      "Predicted label: sci\n",
      "------------------------------------------------------------------------------------------------------------------------\n",
      "планировать сегодня вечером шапка слегка переделать убрать ссылка ютаб добавить популярный книга полезный кто ссылка интересный стоить шапка вообще перенести гитхаб\n",
      "\n",
      "True label: pr\n",
      "\n",
      "Predicted label: pr\n",
      "------------------------------------------------------------------------------------------------------------------------\n",
      "р красный цена день назад брать пятёрочка возможно это очень дрянный мука хуёвый параметр мой случай сильно ограничить финансы р набрать капуста натушить вместо быстрый углевод питать иллюзия счёт мучной тип смочь набрать вес такой жирок откладываться диапазон ниже солнечный спл выше колено остальной параметр измениться думать нужный ты такой\n",
      "\n",
      "True label: di\n",
      "\n",
      "Predicted label: di\n",
      "------------------------------------------------------------------------------------------------------------------------\n",
      "насколько важно js соблюдать форматирование исходник открывать фигурный скобка первый строка привыкнуть стиль каждый фигурный скобка отдельный строка ide js каждый чих форматировать всё обратно иметь смысл бороться это id быть право особый смысл\n",
      "\n",
      "True label: pr\n",
      "\n",
      "Predicted label: pr\n",
      "------------------------------------------------------------------------------------------------------------------------\n",
      "маленький граммовка шанс переэкстракт прикинуть учить матчасть температура трогать около нормально это последний трогать попробовать положить пример грамм экстрактивность уменьшиться число увеличивать помол потихоньку\n",
      "\n",
      "True label: di\n",
      "\n",
      "Predicted label: di\n",
      "------------------------------------------------------------------------------------------------------------------------\n",
      "op салат картошка макароны лук морковь пара яйцо\n",
      "\n",
      "True label: di\n",
      "\n",
      "Predicted label: di\n",
      "------------------------------------------------------------------------------------------------------------------------\n",
      "узнавать левачка агрессивный говорить нормальный считать победитель спор найти доебаться держаться это\n",
      "\n",
      "True label: sci\n",
      "\n",
      "Predicted label: pr\n",
      "------------------------------------------------------------------------------------------------------------------------\n",
      "op знакомый посмотреть остров проклятый полный серьёз начать доказывать год нацист свести ум лоботомировать\n",
      "\n",
      "True label: mov\n",
      "\n",
      "Predicted label: mov\n",
      "------------------------------------------------------------------------------------------------------------------------\n",
      "знать быть примерно этот год убить больший часть население планета год рост население выйти плато больший рост наблюдаться развивающийся страна сократить далёкий сокращаться ребёнок семья развитой\n",
      "\n",
      "True label: sci\n",
      "\n",
      "Predicted label: sci\n",
      "------------------------------------------------------------------------------------------------------------------------\n",
      "тетрагоноптерус это шакальный качество камера телефон аквариум харацинок сидеть медный тетр чёрный неон трава есть сказать натяжка сае так харчуяться яванский мох нечего один криптокорин эхинодорус недавний пора гигрофил полисперма тигр специально физ катушка закидывать аквариум бадис бадис начеку уничтожать помещаться рот покупной живой мороженое корм есть мотыль\n",
      "\n",
      "True label: ne\n",
      "\n",
      "Predicted label: ne\n",
      "------------------------------------------------------------------------------------------------------------------------\n",
      "born na vi children mature rapidly humans reaching mental physical cultural adulthood ages terran years\n",
      "\n",
      "True label: mov\n",
      "\n",
      "Predicted label: mov\n",
      "------------------------------------------------------------------------------------------------------------------------\n",
      "попасть чат заходить редко сюда\n",
      "\n",
      "True label: di\n",
      "\n",
      "Predicted label: di\n",
      "------------------------------------------------------------------------------------------------------------------------\n",
      "искать хороший бургер спб пока найти\n",
      "\n",
      "True label: di\n",
      "\n",
      "Predicted label: di\n",
      "------------------------------------------------------------------------------------------------------------------------\n",
      "такой модель память язык программирование видеть говорить вооооот такой модель память просто везде блядь одинаковый компилировать язык понимать\n",
      "\n",
      "True label: pr\n",
      "\n",
      "Predicted label: pr\n",
      "------------------------------------------------------------------------------------------------------------------------\n",
      "тарковский сталкер зеркало гений снимать красивый план глубокий смысл никто мочь подобный сделать\n",
      "\n",
      "True label: mov\n",
      "\n",
      "Predicted label: mov\n",
      "------------------------------------------------------------------------------------------------------------------------\n",
      "это мягкий молодой человек попробовать изучить терминология теория сторонник который якобы выступать вступать дискуссия потренироваться человек чей интеллектуальный способность соответствовать ваш уверенный такой человек всё попытаться найти\n",
      "\n",
      "True label: sci\n",
      "\n",
      "Predicted label: sci\n",
      "------------------------------------------------------------------------------------------------------------------------\n",
      "тафельшпиц сралик видеть подобный выглядеть аппетитно здорово очень логично сделать родственный тот казахский блюдо получаться\n",
      "\n",
      "True label: di\n",
      "\n",
      "Predicted label: di\n",
      "------------------------------------------------------------------------------------------------------------------------\n",
      "пересмотреть так spoiler сотый это слепить шина это ультра гиг шина век первый часть идти какой сравнение буквально небо аллах земля\n",
      "\n",
      "True label: mov\n",
      "\n",
      "Predicted label: pr\n",
      "------------------------------------------------------------------------------------------------------------------------\n",
      "норма вета регулярно посещать благо друг конец дом\n",
      "\n",
      "True label: ne\n",
      "\n",
      "Predicted label: ne\n",
      "------------------------------------------------------------------------------------------------------------------------\n",
      "настоящий типичный барсик начинать строить демон малый намёк крысоподобный объект\n",
      "\n",
      "True label: sci\n",
      "\n",
      "Predicted label: mov\n", 
      "------------------------------------------------------------------------------------------------------------------------\n",
      "электромагнитный бомба въебать всё отключиться нахуй микросхема выжечь эми всплеск выжечь очень очень заземлить\n",
      "\n",
      "True label: sci\n",
      "\n",
      "Predicted label: sci\n",
      "------------------------------------------------------------------------------------------------------------------------\n",
      "читать нить диалог пробовать прежде тред срать\n",
      "\n",
      "True label: pr\n",
      "\n",
      "Predicted label: di\n",
      "------------------------------------------------------------------------------------------------------------------------\n",
      "тян аутист твой какой оправдание\n",
      "\n",
      "True label: mov\n",
      "\n",
      "Predicted label: pr\n",
      "------------------------------------------------------------------------------------------------------------------------\n",
      "пюрешка шприц стать глотать долго есть принцип это плохо твой место съездить ветеринар хотя это делать первый очередь спросить стоить крыса мучаться далёкий сожаление бывать сделать выбор анон\n",
      "\n",
      "True label: ne\n",
      "\n",
      "Predicted label: ne\n",
      "------------------------------------------------------------------------------------------------------------------------\n",
      "кстати курс антон чигур никто убивать\n",
      "\n",
      "True label: mov\n",
      "\n",
      "Predicted label: di\n",
      "------------------------------------------------------------------------------------------------------------------------\n",
      "знать нужный раздел поэтому написать сюда прийти домой обнаружить посреди комната воробей который скорее принести кот ый этаж живой реагировать отказываться воробей конец успеть отнести ветеринар выходить\n",
      "\n",
      "True label: ne\n",
      "\n",
      "Predicted label: ne\n",
      "------------------------------------------------------------------------------------------------------------------------\n",
      "трястись похуй ваш культистский штука пить кофе водянистый говно ап френч это вино\n",
      "\n",
      "True label: di\n",
      "\n",
      "Predicted label: di\n",
      "------------------------------------------------------------------------------------------------------------------------\n",
      "огрызаться похуй мать твой обоссывать кстати ждать ответ spoiler моралфаг двач это новый\n",
      "\n",
      "True label: pr\n",
      "\n",
      "Predicted label: di\n",
      "------------------------------------------------------------------------------------------------------------------------\n",
      "op spoiler насекомое биоробот зверь душа иметь гавах маленький выделяться реал весь похер этический проблема похер климат похер качество пища тугодный первый место стоить профит матеральный денежный значит насекомое профитный быстрый производить белок поэтому они дешёвый накормить стадо раб значит поиметь профит рабский труд банальный оптимизация система\n",
      "\n",
      "True label: sci\n",
      "\n",
      "Predicted label: sci\n",
      "------------------------------------------------------------------------------------------------------------------------\n",
      "база это твой пост спасибо очень годный канал перекачать\n",
      "\n",
      "True label: pr\n",
      "\n",
      "Predicted label: di\n",
      "------------------------------------------------------------------------------------------------------------------------\n",
      "половина твой высера актёр лола тот дегенерат который важный актёр персонаж ссыкануть ты ебальник слегка\n",
      "\n",
      "True label: mov\n",
      "\n",
      "Predicted label: mov\n",
      "------------------------------------------------------------------------------------------------------------------------\n",
      "объяснить порусски грызть прут клетка краска съесть камень висеть выгуливать час день хватать время выгул второй крысожопка раз жизнь грызло прут\n",
      "\n",
      "True label: ne\n",
      "\n",
      "Predicted label: ne\n",
      "------------------------------------------------------------------------------------------------------------------------\n",
      "тян вкладывать отношение мы нихуй какой смысл первый девушка регулярно мотаться к рестик ходить вкладывать\n",
      "\n",
      "True label: pr\n",
      "\n",
      "Predicted label: sci\n",
      "------------------------------------------------------------------------------------------------------------------------\n",
      "взять два крысонесса дата рождение абсолютно ручной продавец они сюсюкаться сидеть место выпускать клетка кровать бежать глаз глядеть позавчера один словить успеть прыгнуть кровать побежать собирать пыль подманить копчёный колбаса спустя минута вообще выпускать клетка бегать угарелый дикий скорость хотеться дать пространство пока молодой пусть бегать это возраст оно сам\n",
      "\n",
      "True label: ne\n",
      "\n",
      "Predicted label: ne\n",
      "------------------------------------------------------------------------------------------------------------------------\n",
      "заебись пиздеть какашечка анальник сидеть толстой богатый хуй миллионер тред давно превратиться ссылкопомойка какойтый долбоести просто спамит ссылка никакой обсуждение давно\n",
      "\n",
      "True label: mov\n",
      "\n",
      "Predicted label: pr\n",
      "------------------------------------------------------------------------------------------------------------------------\n",
      "пожить успеть смерть мозг пройти минута пять шесть сразу увеличение масса начать гнить ранний трупный явление начинаться несколько час смерть поздний несколько сутки\n",
      "\n",
      "True label: sci\n",
      "\n",
      "Predicted label: sci\n",
      "------------------------------------------------------------------------------------------------------------------------\n",
      "молодец смешно писатель никитин стиль который такой фильтр вообще учёный вообще ожидать встретить раздел наука учёный это обозначать тема участник раздел бред должный сидеть шизоид упс\n",
      "\n",
      "True label: sci\n",
      "\n",
      "Predicted label: sci\n",
      "------------------------------------------------------------------------------------------------------------------------\n",
      "бесить десятка отдний тот ответ уровень епт юзать mergeddictionaries пробовать мерджить ресурс итем приложение улетать космос такой чувство планета проблема какой намёк видеть запрос wpf prism описываться проблема добавить проект сотня итем\n",
      "\n",
      "True label: pr\n",
      "\n",
      "Predicted label: pr\n",
      "------------------------------------------------------------------------------------------------------------------------\n",
      "свой фантазия лить дать собираться детектор суть взять весь известный эксперимент два щель вариация квантовый ластик разбавить свой фантазия реальный эксперимент квантовый ластик стирание информация какой щель пройти частица производиться изменение поляризация фотон спина электрон интерференция восстанавливаться чувак придумать какой фигня вид дать собираться детектор\n",
      "\n",
      "True label: sci\n",
      "\n",
      "Predicted label: sci\n",
      "------------------------------------------------------------------------------------------------------------------------\n",
      "кнедлить хороший блюдо например пик\n",
      "\n",
      "True label: di\n",
      "\n",
      "Predicted label: di\n",
      "------------------------------------------------------------------------------------------------------------------------\n",
      "педро пидро пудро падро варга\n",
      "\n",
      "True label: ne\n",
      "\n",
      "Predicted label: di\n",
      "------------------------------------------------------------------------------------------------------------------------\n",
      "джава прога который использовать распознавание изображение кнопка другой никак мало ректы кнопочка рендерита фреймворк использовать дом страница такой зоопарк фреймворк велосипед далеко ты джавист\n",
      "\n",
      "True label: pr\n",
      "\n",
      "Predicted label: pr\n",
      "------------------------------------------------------------------------------------------------------------------------\n",
      "никто серьёзный коммерческий продукт использовать опена апи сваггера\n",
      "\n",
      "True label: pr\n",
      "\n",
      "Predicted label: pr\n",
      "------------------------------------------------------------------------------------------------------------------------\n",
      "понятие дорога кофе относительно стоить зарабатывать\n",
      "\n",
      "True label: di\n",
      "\n",
      "Predicted label: di\n",
      "------------------------------------------------------------------------------------------------------------------------\n",
      "прочитать пройти курсик андроид посмотреть пара видосик вкатиться оказываться учиться практиковаться въебывать\n",
      "\n",
      "True label: pr\n",
      "\n",
      "Predicted label: pr\n",
      "------------------------------------------------------------------------------------------------------------------------\n",
      "этот штука неплохо вписаться сюда один другой мешать\n",
      "\n",
      "True label: pr\n",
      "\n",
      "Predicted label: di\n",
      "------------------------------------------------------------------------------------------------------------------------\n",
      "чашка простой смотреть быть смотреть отметка наклон сервер странный\n",
      "\n",
      "True label: di\n",
      "\n",
      "Predicted label: pr\n",
      "------------------------------------------------------------------------------------------------------------------------\n",
      "драка порвать девушка хозяюшка истерить быть spoiler понимать непререкаемый авторитет расти дорастить сопля\n",
      "\n",
      "True label: ne\n",
      "\n",
      "Predicted label: mov\n",
      "------------------------------------------------------------------------------------------------------------------------\n",
      "видео шапка это один многий рамзь бессмысленно потратить масло посолить макароха варка это хуйня друг видео рамзь делать карбонар бекон пармезан чеснок гриб горох итальяха рамза выцарапать глаз итальяха похуй понимать интересоваться итальяха готовить почему иначе\n",
      "\n",
      "True label: di\n",
      "\n",
      "Predicted label: di\n",
      "------------------------------------------------------------------------------------------------------------------------\n",
      "посон что уебан первый видеть наш местность этот пидорас\n",
      "\n",
      "True label: ne\n",
      "\n",
      "Predicted label: di\n",
      "------------------------------------------------------------------------------------------------------------------------\n",
      "op неправдо существовать минимум время фундаментальный время смена элементарный состояние пространство обычный время который измерять часами оно вытекать скорость процесс часы движение солнце колебание маятник пружын кристалл кремний оболочка атом тп скорость движение скорость процесс это производный время неправдо атом послепотопный остаток былой цивизизация откатиться голожопый каменный век начать практически\n",
      "\n",
      "True label: sci\n",
      "\n",
      "Predicted label: sci\n",
      "------------------------------------------------------------------------------------------------------------------------\n",
      "кошка очень мало пить решить купить фонтанчик понять понравиться струя фонтанчик родник хотеть сразу взять хороший беспроводный датчкома движение нормальный стоять хотеть проебаться\n",
      "\n",
      "True label: ne\n",
      "\n",
      "Predicted label: ne\n",
      "------------------------------------------------------------------------------------------------------------------------\n",
      "казаться жаба гораздо плохой шарп просто шапка вписать анон заморачиваться каждый\n",
      "\n",
      "True label: pr\n",
      "\n",
      "Predicted label: pr\n",
      "------------------------------------------------------------------------------------------------------------------------\n",
      "электрогриль это такой сковорода сковорода weber pulse глянуть начало\n",
      "\n",
      "True label: di\n",
      "\n",
      "Predicted label: di\n",
      "------------------------------------------------------------------------------------------------------------------------\n",
      "почитать скорее сангвиник писать требовать серьёзный дрессировка хороший служебный пёс тренировать впринцип это наверное хотеть реагирута другой человек\n",
      "\n",
      "True label: ne\n",
      "\n",
      "Predicted label: ne\n",
      "------------------------------------------------------------------------------------------------------------------------\n",
      "скуратов котироваться знакомый анон рекомендовать прям сильно\n",
      "\n",
      "True label: di\n",
      "\n",
      "Predicted label: di\n",
      "------------------------------------------------------------------------------------------------------------------------\n",
      "op итт кормить холистик бесить диннер\n",
      "\n",
      "True label: ne\n",
      "\n",
      "Predicted label: ne\n",
      "------------------------------------------------------------------------------------------------------------------------\n",
      "бампа вопрос антуан спасать петушок недавно помутнеть глаз отсадить банк добавлять вода метиленовый синий помогать ранний никак реагировать начать пытаться чесаться стена делать\n",
      "\n",
      "True label: ne\n",
      "\n",
      "Predicted label: ne\n",
      "------------------------------------------------------------------------------------------------------------------------\n",
      "найти кстати оказываться это личный франшиза фильм сильно маленький ёбаный астрал лола spoiler apple com us movie doctor ordered umc cmc n amuf vvma awzzx fzen apple com us movie doctor ordered umc cmc n amuf vvma awzzx fzen\n",
      "\n",
      "True label: mov\n",
      "\n",
      "Predicted label: mov\n",
      "------------------------------------------------------------------------------------------------------------------------\n",
      "посоветовать курс бухгалтерия тип основа бухгалтерия потыкать программа клиентский профка сдать зубрить прям каждый ответ\n",
      "\n",
      "True label: pr\n",
      "\n",
      "Predicted label: pr\n",
      "------------------------------------------------------------------------------------------------------------------------\n",
      "старый клетка должный отмирать время освобождать пространство рост новый являться механизм защита раковый заболевание забывать клетка это лишь биохимический механизм который ломаться зависимость время долгий функционировать жить накапливать ошибка днк приводить конечный счёт раковый заболевание\n",
      "\n",
      "True label: sci\n",
      "\n",
      "Predicted label: sci\n",
      "------------------------------------------------------------------------------------------------------------------------\n",
      "сап хрень они знать подложка вылезать раковина это норма\n",
      "\n",
      "True label: ne\n",
      "\n",
      "Predicted label: ne\n",
      "------------------------------------------------------------------------------------------------------------------------\n",
      "почему зоонаблюдение столько мат скандал модератор сколько писать человек имя животное позволять общение никто кроме печальный зрелище обделённость ум нормальный человек мешать съедать каждый входить банда сложиться отличный сайт глаз тв наглый интернет банда нормальный модератор вынудить врезать отдельный чат нормальный люд распинать свой наглость тупой фраза такой картина зоонаблюдение\n",
      "\n",
      "True label: ne\n",
      "\n",
      "Predicted label: ne\n",
      "------------------------------------------------------------------------------------------------------------------------\n",
      "это говно костюм говно говновселенная говнофанфиков говноконтора дрисри\n",
      "\n",
      "True label: mov\n",
      "\n",
      "Predicted label: pr\n",
      "------------------------------------------------------------------------------------------------------------------------\n",
      "финансовый выгода освоение марс давно справиться маска делать нех поэтому марс мечтать школотый\n",
      "\n",
      "True label: sci\n",
      "\n",
      "Predicted label: sci\n",
      "------------------------------------------------------------------------------------------------------------------------\n",
      "бля ёбаный поебот нахуй полочка разложить\n",
      "\n",
      "True label: mov\n",
      "\n",
      "Predicted label: di\n",
      "------------------------------------------------------------------------------------------------------------------------\n",
      "обнаруживать ловить инопланетный зонд вскрывать ужас обнаруживать внутри лежать чужой живехенький состояние гибернация браться исследовать чужое внезапно выяснять чужой гораздо умный сильный выносливый человек ещё организм использовать днк мочь сделать\n",
      "\n",
      "True label: sci\n",
      "\n",
      "Predicted label: sci\n",
      "------------------------------------------------------------------------------------------------------------------------\n",
      "крч действовать зеленб обязательно выдрачивать тазик укроп петрушка всякий салат песок говно рил дохуй смываться проточный вода получиться гриб хз просто мой смириться виноград ягода таз\n",
      "\n",
      "True label: di\n",
      "\n",
      "Predicted label: di\n",
      "------------------------------------------------------------------------------------------------------------------------\n",
      "op приобретаться субъект новый хромосома макроэволюция фактор изменение сеть генный экспрессия почему происходить мутация изменение кодирование нуклеотид изменение фактор сплайсинг фактор транскрипция возникать мутация днк однако стоить забывать ретровирус написать разный хуйня вроде мутация происходить спермотозойда яйцелкетка бля кожа lol напрямую никак мутация передаться хуй они искренне хотеться верить это\n",
      "\n",
      "True label: sci\n",
      "\n",
      "Predicted label: sci\n",
      "------------------------------------------------------------------------------------------------------------------------\n",
      "экстрагировать дохуй взвешивать ниже эспрессо экстракция вообще способ экстрактивность маленький вкус зелёный травянистый цедровый дубильный табачный гореть любой зерно вытаскивать около любой способ просто любой зерно около вкусный вещество далёкий дубильный противный низкий экстракция преобладать кислота поэтому вкусно ты такой бредот сказать гейзер выше экстракция жжёный немой экстракция выше экстрагировать\n",
      "\n",
      "True label: di\n",
      "\n",
      "Predicted label: di\n",
      "------------------------------------------------------------------------------------------------------------------------\n",
      "такой менее смешной линия певичка\n",
      "\n",
      "True label: mov\n",
      "\n",
      "Predicted label: mov\n",
      "------------------------------------------------------------------------------------------------------------------------\n",
      "буквально нацист селина свистеть нация выражаться это навсего огромный скопище подонок вроде гнилой вшивый промёрзнуть который загнать сюда свет голод чума чирей холод далёкий некуда море такой твой франция француз французский нацист селина французский нация\n",
      "\n",
      "True label: mov\n",
      "\n",
      "Predicted label: sci\n",
      "------------------------------------------------------------------------------------------------------------------------\n",
      "веб сервис php писаться компилятор си писаться игра теория сомнительно всё opengl связать движок реальный прод java идеально прувера пойти иметься ввиду система доказательство теорема казаться предел два три нии это нигде использоваться использовать какой штука важный безопастность понять что это любой современный язык писать безопасный код\n",
      "\n",
      "True label: pr\n",
      "\n",
      "Predicted label: pr\n",
      "------------------------------------------------------------------------------------------------------------------------\n",
      "знать практически всё проиграть чел тупо история знать\n",
      "\n",
      "True label: sci\n",
      "\n",
      "Predicted label: pr\n",
      "------------------------------------------------------------------------------------------------------------------------\n",
      "вкат тема пойти далёкий озон посоветовать именно скорпион табаско\n",
      "\n",
      "True label: di\n",
      "\n",
      "Predicted label: di\n",
      "------------------------------------------------------------------------------------------------------------------------\n",
      "смысл работа быстро работать ломаться сопровождение потребность приходиться ломать потихоньку тп нужный бомбить клиент лёгкий форма даунизм поносить бедный человек телефон чат отдел разработка\n",
      "\n",
      "True label: pr\n",
      "\n",
      "Predicted label: pr\n",
      "------------------------------------------------------------------------------------------------------------------------\n",
      "легенда рв пополняться новый контент онлайн параша swtor лавочка tor скоро прикрыть слишком независимо основной повесточка сжв дрисный\n",
      "\n",
      "True label: mov\n",
      "\n",
      "Predicted label: mov\n",
      "------------------------------------------------------------------------------------------------------------------------\n",
      "террариум это вообще нецелесообразный разводить продажа брать самый большой контейнер фикспрайс вырезть прямоугольник противоположный сторона высота клеить монтажный сетка деление мм иметь ввиду алюминий таракан легчайше прогрызть захотеть spoiler достаточно вода капнуть искать какой толстый нержавейка\n",
      "\n",
      "True label: ne\n",
      "\n",
      "Predicted label: ne\n",
      "------------------------------------------------------------------------------------------------------------------------\n",
      "скопировать смайлик типо быть якобы телефон писать фотокамера скопировать перловка дурдом сфоткать\n",
      "\n",
      "True label: di\n",
      "\n",
      "Predicted label: di\n",
      "------------------------------------------------------------------------------------------------------------------------\n",
      "коррупция кумовство срочно весь поставить единичка фильм\n",
      "\n",
      "True label: mov\n",
      "\n",
      "Predicted label: mov\n",
      "------------------------------------------------------------------------------------------------------------------------\n",
      "посмотреть печать смешанный чувство фильм слишком мало эстетика история цеплять сказать мочь\n",
      "\n",
      "True label: mov\n",
      "\n",
      "Predicted label: mov\n",
      "------------------------------------------------------------------------------------------------------------------------\n",
      "запрограммировать съести мой двач креационист\n",
      "\n",
      "True label: sci\n",
      "\n",
      "Predicted label: di\n",
      "------------------------------------------------------------------------------------------------------------------------\n",
      "op создание образ подобие собственно человек делать ия робот хрюс начитаться библия понять наебали отказаться идея бог впитать христианский антропоцентризм поэтому постхристианский учёный создавать робот свой подобие почему утверждать это матрица утверждать всё угодный бремя доказательство ты пока пиздабол мир изначально заложить возможность познаваемость создание это значит набор слово смысл\n",
      "\n",
      "True label: sci\n",
      "\n",
      "Predicted label: sci\n",
      "------------------------------------------------------------------------------------------------------------------------\n",
      "onmouseover showpostpreview event onmouseout delpostpreview event onclick highlight живой уебок почему никто петарда туда кинуть бомбануть бомбануть сыч явно пробздиться что дупло залезть хищник тип куница сова отбиться вопрос что рука держать живой сова очень мелкий пух перо придавать обить вид больший ощупь мясо кулачок\n",
      "\n",
      "True label: ne\n",
      "\n",
      "Predicted label: ne\n",
      "------------------------------------------------------------------------------------------------------------------------\n",
      "пиздюк аллергия содержать кошка мочь купить два улиточка ахатин рубль каждый поместить здоровый контейнер наблюдать они купать струйка кран вытягиваться встреча кормить овощ давать дафния молотый яичный скорлупа менять земля земля ёбаный паразит заводиться вечно тратить время сила земля поменять почистить контейнер раз откладывать яйцо аллергия кошка пройти улитка наскучить\n",
      "\n",
      "True label: ne\n",
      "\n",
      "Predicted label: ne\n",
      "------------------------------------------------------------------------------------------------------------------------\n",
      "хотета покупать семя улица расти бесплатно выглядеть именно тот разниться кошка собака пересадить грамотно\n",
      "\n",
      "True label: ne\n",
      "\n",
      "Predicted label: ne\n",
      "------------------------------------------------------------------------------------------------------------------------\n",
      "нужно следующий идея маленький банк который вода свободный состояние присутствовать вид конденсат хотеть попробовать система который избыток вода кроме ускорить продуцирование органика грубо говорить один дождевой червь нужно столько перегноить сколько весить день это обеспечить либо растить больший площадь либо малый интенсивно значит нужный подсветка иначе черта зимой вырасти коричневый\n",
      "\n",
      "True label: ne\n",
      "\n",
      "Predicted label: sci\n",
      "------------------------------------------------------------------------------------------------------------------------\n",
      "пидрильский манёвр вздумать устраивать алекс пройас быть ворон брендон тёмный город книга сон быть бог египет выйти подонок бессовестный\n",
      "\n",
      "True label: mov\n",
      "\n",
      "Predicted label: mov\n",
      "------------------------------------------------------------------------------------------------------------------------\n",
      "идиот прототип единичный модель дорога вполне реальный просто продавать это деньга масштабировать\n",
      "\n",
      "True label: sci\n",
      "\n",
      "Predicted label: sci\n",
      "------------------------------------------------------------------------------------------------------------------------\n",
      "апиекаха ещё вроде дёшево качественно приготовить строймагазин вода стремаять\n",
      "\n",
      "True label: sci\n",
      "\n",
      "Predicted label: di\n",
      "------------------------------------------------------------------------------------------------------------------------\n",
      "такой материя это очень маленький нерушимый шарик б колебание пространство колебание другой это поле например доп вопрос вселенная размер планковский длина умещаться частица поместиться мочь один значит мочь один поместиться это ячейка шарик протон фотон сколько угодный один место напихать\n",
      "\n",
      "True label: sci\n",
      "\n",
      "Predicted label: sci\n",
      "------------------------------------------------------------------------------------------------------------------------\n",
      "это выбор обычный сигарета сигарета малый содержание никотин последний позиционироваться супер эко безопасный альтернатива курение\n",
      "\n",
      "True label: di\n",
      "\n",
      "Predicted label: ne\n",
      "------------------------------------------------------------------------------------------------------------------------\n",
      "пизда опущенок дисярный слить нахуй говно выбраться захлебнуться свой понос\n",
      "\n",
      "True label: mov\n",
      "\n",
      "Predicted label: mov\n",
      "------------------------------------------------------------------------------------------------------------------------\n",
      "op повод подтянуть английский кто действительно\n",
      "\n",
      "True label: mov\n",
      "\n",
      "Predicted label: pr\n",
      "------------------------------------------------------------------------------------------------------------------------\n",
      "крыса сей пора очень переживать рыбка дегу тупой белка\n",
      "\n",
      "True label: ne\n",
      "\n",
      "Predicted label: ne\n",
      "------------------------------------------------------------------------------------------------------------------------\n",
      "это кощк это хищник охотник убийца должный нападать просто дать интересный альтернатива рука\n",
      "\n",
      "True label: ne\n",
      "\n",
      "Predicted label: ne\n",
      "------------------------------------------------------------------------------------------------------------------------\n",
      "брахипельма альбопилосум ньюфаг самый дёшево брахипельма ваганс круто норка\n",
      "\n",
      "True label: ne\n",
      "\n",
      "Predicted label: ne\n",
      "------------------------------------------------------------------------------------------------------------------------\n",
      "тупой жирный пидарка пробовать тролить жпг\n",
      "\n",
      "True label: di\n",
      "\n",
      "Predicted label: di\n",
      "------------------------------------------------------------------------------------------------------------------------\n",
      "анон вскрытие пакет зерно хранить зерно пакет туда воздух поступать пластиковый контейнер хранение продукт железный тара\n",
      "\n",
      "True label: di\n",
      "\n",
      "Predicted label: di\n",
      "------------------------------------------------------------------------------------------------------------------------\n",
      "справка проект модуль дебаг собирать мб апк релизнать весить\n",
      "\n",
      "True label: pr\n",
      "\n",
      "Predicted label: pr\n",
      "------------------------------------------------------------------------------------------------------------------------\n",
      "джаваскрипт создавать наркоман калифорния день коленка результат получиться хует сбоку бантик куча неочевидный особенность попросту баг джаваскриптизёр часто травмировать психика этот баг называть это особенность язык js запись создать массив пустой значение охуенно такой подвох каждый шаг\n",
      "\n",
      "True label: pr\n",
      "\n",
      "Predicted label: pr\n",
      "------------------------------------------------------------------------------------------------------------------------\n",
      "жить этаж кот сетка окно сирьйозный\n",
      "\n",
      "True label: ne\n",
      "\n",
      "Predicted label: ne\n",
      "------------------------------------------------------------------------------------------------------------------------\n",
      "никакой развитие изоляция наоборот spoiler общий жёсткий конкуренция место сдутие хайп запаздывать работа получить хороший хороший\n",
      "\n",
      "True label: pr\n",
      "\n",
      "Predicted label: pr\n",
      "------------------------------------------------------------------------------------------------------------------------\n",
      "дистиллят лола иметь ввиду дистиллировать вода около год думать жесть че магазин растить долго обсуждение купить форум показаться быстро разбирать хм думать маленький хиленький растеньице погибать это оказываться взрослый попробовать разделить луковица новый мухоловёнок\n",
      "\n",
      "True label: ne\n",
      "\n",
      "Predicted label: di\n",
      "------------------------------------------------------------------------------------------------------------------------\n",
      "ладный кошка тип сам собака приручать дрессировать учить команда какой относительно сложный социальный взаимодействие это прокачивать животное мозг интересно далёкий далёкий усложнять взаимодействие добиться дистанция тысяча год вправду появиться брат разум\n",
      "\n",
      "True label: sci\n",
      "\n",
      "Predicted label: ne\n",
      "------------------------------------------------------------------------------------------------------------------------\n",
      "сосед лишь исполнитель правоохранительный орган хотеть спугнуть выход контакт заказчик удивиться заказчик оказаться скарлета йохансон www youtube com watch omcfupul www youtube com watch omcfupul\n",
      "\n",
      "True label: mov\n",
      "\n",
      "Predicted label: sci\n",
      "------------------------------------------------------------------------------------------------------------------------\n",
      "op кстати соус сделать основа жареный лука залить томатный паста заливать наваристотить вкус добавить соус\n",
      "\n",
      "True label: di\n",
      "\n",
      "Predicted label: di\n",
      "------------------------------------------------------------------------------------------------------------------------\n",
      "доказать либо эксперимент хотя предложить короче частица точечный всё квантовый коллапсировать мгновенно так быть два бесконечность запас достоверность так точечный любой скорость это происходить начаться закончиться сразу ноль время оно ещё кроме точечный размер ещё идти очень быстро бесконечно быстро мнгновенный получаться бесконечность бесконечность\n",
      "\n",
      "True label: sci\n",
      "\n",
      "Predicted label: sci\n",
      "------------------------------------------------------------------------------------------------------------------------\n",
      "ещё приучивать шиншилла сидеть рука нормально относиться получиться это к рука шиншилла попасть быть довольно старый запуганный год год её выпускать засранна клетка грызть провод мебель прочий хует знать её хозяин ожидать заводить грызун хикк пытаться социализировать нихер получаться смиренно сидеть лапища ожидать смерть spoiler ранний она вселяться ацкий сотон\n",
      "\n",
      "True label: ne\n",
      "\n",
      "Predicted label: ne\n",
      "------------------------------------------------------------------------------------------------------------------------\n",
      "хуйня эспрессо многократный перколяция один тот порция жидкость перколятор\n",
      "\n",
      "True label: di\n",
      "\n",
      "Predicted label: di\n",
      "------------------------------------------------------------------------------------------------------------------------\n",
      "научиться программировать очевидный изучить язык программирование это самый научиться программировать конкретно этот книга исключительно хороший развивать вкус хороший абстракция термин который учить мыслить стать нс сеньор многие вполне обоснованный считать начинать sicp маленький каша голова следствие маленький необходимость переучиваться\n",
      "\n",
      "True label: pr\n",
      "\n",
      "Predicted label: pr\n",
      "------------------------------------------------------------------------------------------------------------------------\n",
      "делать острый перец томатильо есть охуевать есть охуевать продолжать ибо очень вкусно очень остро покупной давно смотреть говно свой литровый банка стоить год хватить\n",
      "\n",
      "True label: di\n",
      "\n",
      "Predicted label: di\n",
      "------------------------------------------------------------------------------------------------------------------------\n",
      "среднее рост ссориться стадный чувство хейт брипидор другой повестись человек свой мнение\n",
      "\n",
      "True label: mov\n",
      "\n",
      "Predicted label: pr\n",
      "------------------------------------------------------------------------------------------------------------------------\n",
      "плохой комедиант youtu hc kkrkpi youtu hc kkrkpi\n",
      "\n",
      "True label: mov\n",
      "\n",
      "Predicted label: mov\n",
      "------------------------------------------------------------------------------------------------------------------------\n",
      "дед похоже научный дать накидать чуткий свой фантазия\n",
      "\n",
      "True label: sci\n",
      "\n",
      "Predicted label: sci\n",
      "------------------------------------------------------------------------------------------------------------------------\n",
      "какой булка толстенный рука дойти сделать бургер сам убрать часть хлебный мякоть нижний булка тарелка верхний булка крышка булка быть облегать котлета начинка это маленький разъезжаться сторона рот лёгкий залезть тесто равно главное\n",
      "\n",
      "True label: di\n",
      "\n",
      "Predicted label: di\n",
      "------------------------------------------------------------------------------------------------------------------------\n",
      "разбираться значит пить бомжевский палка один выбрать помнить один время детектор говноеда стограммовый точить феникс рубль стоить человек её хвалить полный уверенность заключить разбираться сабж её принцип пить невозможно совершенно пустой хуит вкус запах кофеин хотя ещё убогия пример шайба ашан это лютый пиздец который большинство человек судить пуэра\n",
      "\n",
      "True label: di\n",
      "\n",
      "Predicted label: di\n",
      "------------------------------------------------------------------------------------------------------------------------\n",
      "окрошка солянка закуска салат просто разогреть гарнир это назвать готовка\n",
      "\n",
      "True label: di\n",
      "\n",
      "Predicted label: di\n",
      "------------------------------------------------------------------------------------------------------------------------\n",
      "знать что остановиться шизик говорить таймор хватить весь любой способ мочь настраивать помол это влиять настройка помол придумать шизик\n",
      "\n",
      "True label: di\n",
      "\n",
      "Predicted label: di\n",
      "------------------------------------------------------------------------------------------------------------------------\n",
      "яйцо глист везде ноготь попадать любой общепит рассадник яйцо глист тупо вдохнуть пиздить чистюля вероятность глист тип острица регулярно зудеть пердак\n",
      "\n",
      "True label: ne\n",
      "\n",
      "Predicted label: di\n",
      "------------------------------------------------------------------------------------------------------------------------\n",
      "op коротко выйти длинно быть вопрос заключить слово соответствовать сам дело ничто соответсвовать прямой смысл слово производный время объект который потрогать вектор увидеть однако выйти пользоваться логика математика строить концепция позволять предсказывать поведение определённый процесс некоторый рамка наука заниматься попробовать придумать описание процесс использование математический аппарат такой случай новый логический\n",
      "\n",
      "True label: sci\n",
      "\n",
      "Predicted label: sci\n",
      "------------------------------------------------------------------------------------------------------------------------\n",
      "вроде todo list два табличка база данные список задача приоритет выполнение один табличка заноситься задача который затем биться подзадача тип затем ставиться приоритет выполнение либо задача выполнить удаляться табличка переноситься другуют табличка отчёт бредятина айтишном язык сознание это виртуальный рабочий стол который поступать отфильтровать приоритет окрасить эмоция реакция мозг дать\n",
      "\n",
      "True label: sci\n",
      "\n",
      "Predicted label: pr\n",
      "------------------------------------------------------------------------------------------------------------------------\n",
      "название класс это целиком аббревиатура тип dto transfer object писать название заглавный первый остальной маленький буква заглавный\n",
      "\n",
      "True label: pr\n",
      "\n",
      "Predicted label: pr\n",
      "------------------------------------------------------------------------------------------------------------------------\n",
      "г стаж почему мешать прям сейчас другой работа найти думать найти изя\n",
      "\n",
      "True label: pr\n",
      "\n",
      "Predicted label: pr\n",
      "------------------------------------------------------------------------------------------------------------------------\n",
      "сказать арт хаус ридлить скот нацелиться сезон хуерг высрать\n",
      "\n",
      "True label: mov\n",
      "\n",
      "Predicted label: mov\n",
      "------------------------------------------------------------------------------------------------------------------------\n",
      "анончик всё таки пить польза водочка другой закуска быть\n",
      "\n",
      "True label: di\n",
      "\n",
      "Predicted label: di\n",
      "------------------------------------------------------------------------------------------------------------------------\n",
      "пытаться установить nginx инструкция unexpected end parameter expecting command line понять мочь забытый скобка конф nginx\n",
      "\n",
      "True label: pr\n",
      "\n",
      "Predicted label: pr\n",
      "------------------------------------------------------------------------------------------------------------------------\n",
      "чело гр дрожжи мл л лола\n",
      "\n",
      "True label: di\n",
      "\n",
      "Predicted label: di\n",
      "------------------------------------------------------------------------------------------------------------------------\n",
      "государство нужный злой разгневать мужчина самофикс spoiler азаза требоваться\n",
      "\n",
      "True label: mov\n",
      "\n",
      "Predicted label: mov\n",
      "------------------------------------------------------------------------------------------------------------------------\n",
      "ага свой тип error приводить он макрос который упрощать задача например делать енум docs rs custom error latest custom error macro custom error limitations docs rs custom error latest custom error macro custom error limitations\n",
      "\n",
      "True label: pr\n",
      "\n",
      "Predicted label: pr\n",
      "------------------------------------------------------------------------------------------------------------------------\n",
      "вкинуть кубик куриный бульон магга пиздец заруинил суп\n",
      "\n",
      "True label: di\n",
      "\n",
      "Predicted label: di\n",
      "------------------------------------------------------------------------------------------------------------------------\n",
      "тимофей хирьян калоед смотреть курячего www youtube com unx playlists www youtube com unx playlists амый достойный лекция питон понимать почему такой восторг шизик балабол\n",
      "\n",
      "True label: pr\n",
      "\n",
      "Predicted label: pr\n",
      "------------------------------------------------------------------------------------------------------------------------\n",
      "ещё секунда стоять искупаться одежда\n",
      "\n",
      "True label: mov\n",
      "\n",
      "Predicted label: di\n",
      "------------------------------------------------------------------------------------------------------------------------\n",
      "youtu ztod tfvyo youtu ztod tfvyo\n",
      "\n",
      "True label: mov\n",
      "\n",
      "Predicted label: mov\n",
      "------------------------------------------------------------------------------------------------------------------------\n",
      "тупой выбирать один два либо настоящий messaging либо строгий типизация известный этап compile time\n",
      "\n",
      "True label: pr\n",
      "\n",
      "Predicted label: pr\n",
      "------------------------------------------------------------------------------------------------------------------------\n",
      "базировать гигачед ценитель петрюс тред винный погреб\n",
      "\n",
      "True label: di\n",
      "\n",
      "Predicted label: di\n",
      "------------------------------------------------------------------------------------------------------------------------\n",
      "любитель эфир поселить отдельный государство пусть строить свой электростанция гравилёт сколько захотеть гуманитарный помощь отправлять прочить отъезд нормальный учёный рф именно это произойти\n",
      "\n",
      "True label: sci\n",
      "\n",
      "Predicted label: sci\n",
      "------------------------------------------------------------------------------------------------------------------------\n",
      "граф князь явить замысел свой простолюдин поглотить сайт\n",
      "\n",
      "True label: mov\n",
      "\n",
      "Predicted label: pr\n",
      "------------------------------------------------------------------------------------------------------------------------\n",
      "лола гослинг сигма ясный хуй долбаести влезть семейный дело привлечь тнюс личинка словить пуля понять это скинуть\n",
      "\n",
      "True label: mov\n",
      "\n",
      "Predicted label: mov\n",
      "------------------------------------------------------------------------------------------------------------------------\n",
      "каждый называть скетчер рассказывать попускать предлагать офер фулстак это реалия год\n",
      "\n",
      "True label: pr\n",
      "\n",
      "Predicted label: pr\n",
      "------------------------------------------------------------------------------------------------------------------------\n",
      "бля это написать получаться идеальный газ одновременно иметь теплоёмкость иметь нулевой теплоёмкость так быть темплоёмкость зависеть количество судить формула\n",
      "\n",
      "True label: sci\n",
      "\n",
      "Predicted label: pr\n",
      "------------------------------------------------------------------------------------------------------------------------\n",
      "лул дело пробовать солить всё равно кал ёбаный\n",
      "\n",
      "True label: di\n",
      "\n",
      "Predicted label: di\n",
      "------------------------------------------------------------------------------------------------------------------------\n",
      "завидовать белый господин который мочь позволить утро отведать чашечка сочный флэта уайт кисложопый нищеброд кислый воронка\n",
      "\n",
      "True label: di\n",
      "\n",
      "Predicted label: di\n",
      "------------------------------------------------------------------------------------------------------------------------\n",
      "op ответить почему любой современный режиссёр спросить любимый фильм выдать список максимально дефолтной унылый хуйня выкатить свой список любимый фильм наш\n",
      "\n",
      "True label: mov\n",
      "\n",
      "Predicted label: mov\n",
      "------------------------------------------------------------------------------------------------------------------------\n",
      "этот хуйня вообще переползти шарп наверное любой язык корень оттуда\n",
      "\n",
      "True label: pr\n",
      "\n",
      "Predicted label: pr\n",
      "------------------------------------------------------------------------------------------------------------------------\n",
      "сосед дача крупный собака видеть жить двор вроде ночью выпускать погулять поэтому весь улица получночь ворота нос казать это собака начинать лаять завести ночь хрипнуть норма например сегодня сначала просто монотонно лаять видимо отвязать внутри двор лай стать удаляться приближаться лаять агрессивно кто акустика улица слышаться лаять дышать прямо окно\n",
      "\n",
      "True label: ne\n",
      "\n",
      "Predicted label: ne\n",
      "------------------------------------------------------------------------------------------------------------------------\n",
      "methicillin resistant staphylococcus aureus это кстати самый главный головной боль медработник корона гепатит вич\n",
      "\n",
      "True label: sci\n",
      "\n",
      "Predicted label: pr\n",
      "------------------------------------------------------------------------------------------------------------------------\n",
      "великий географический открытие совершить драгоценный металл утечь китай налог браться монетка драгоценный металл невыплата налог мочь получить жопа\n",
      "\n",
      "True label: sci\n",
      "\n",
      "Predicted label: sci\n",
      "------------------------------------------------------------------------------------------------------------------------\n",
      "каждый разом урод рождаться всё маленький объяснить кореец\n",
      "\n",
      "True label: sci\n",
      "\n",
      "Predicted label: sci\n",
      "------------------------------------------------------------------------------------------------------------------------\n",
      "математик одинаковый весь мир использовать греческий алфавит нахуй жиденький поддать многополярник хуй кодинга одинаковый весь мир использовать английский\n",
      "\n",
      "True label: pr\n",
      "\n",
      "Predicted label: pr\n",
      "------------------------------------------------------------------------------------------------------------------------\n",
      "старый прокатывать многоразовый капсула присрать новый капсула полусфера хуй патент каждый капсула свой штрих код\n",
      "\n",
      "True label: di\n",
      "\n",
      "Predicted label: di\n",
      "------------------------------------------------------------------------------------------------------------------------\n",
      "www youtube com watch wly efltclu www youtube com watch wly efltclu\n",
      "\n",
      "True label: ne\n",
      "\n",
      "Predicted label: mov\n",
      "------------------------------------------------------------------------------------------------------------------------\n",
      "это алсый вчера чайный пять полка блин один подарок восток остальной вполне аутентичный пувэнить хайвани дин син фэнцин\n",
      "\n",
      "True label: di\n",
      "\n",
      "Predicted label: di\n",
      "------------------------------------------------------------------------------------------------------------------------\n",
      "давно проигрывать просмотр фильм особенно момент тринити пафосно бросать свой муж мой имя тринити ебашитый вертушка щи оказываться настоящий избранный это тринити нео это хер собачий который потерять свой имбовыя абилка поход вообще понимать происходить робот который стать послушный домашний зверушка фильм сам дело охуенный воспринимать стёб пародия являться\n",
      "\n",
      "True label: mov\n",
      "\n",
      "Predicted label: mov\n",
      "------------------------------------------------------------------------------------------------------------------------\n",
      "обязательно необходимо модульный интеграционный тестирование свой петь проект\n",
      "\n",
      "True label: pr\n",
      "\n",
      "Predicted label: pr\n",
      "------------------------------------------------------------------------------------------------------------------------\n",
      "единственный небанальный момент второй аватар куоритч конец получить шрам ебло оригинал\n",
      "\n",
      "True label: mov\n",
      "\n",
      "Predicted label: mov\n",
      "------------------------------------------------------------------------------------------------------------------------\n",
      "птица пневмач пострелять такой ебнуть вороноеб\n",
      "\n",
      "True label: ne\n",
      "\n",
      "Predicted label: ne\n",
      "------------------------------------------------------------------------------------------------------------------------\n",
      "нечего учить почитай документация попробовать запустить проект докер всё никто заставить писать docker image поэтому посмотреть node python запутаться\n",
      "\n",
      "True label: pr\n",
      "\n",
      "Predicted label: pr\n",
      "------------------------------------------------------------------------------------------------------------------------\n",
      "последний время стать шава готовить честно узбек большой нравиться сочный вкус соус хороший сытный деньга сказать дёшево хотя пытаться экономить\n",
      "\n",
      "True label: di\n",
      "\n",
      "Predicted label: di\n",
      "------------------------------------------------------------------------------------------------------------------------\n",
      "повторяться аки испортить матка пчела оп протухнуть тред хоронить\n",
      "\n",
      "True label: ne\n",
      "\n",
      "Predicted label: di\n",
      "------------------------------------------------------------------------------------------------------------------------\n",
      "это весь зритель виноватый хотеть отдать кресло родригес заставить\n",
      "\n",
      "True label: mov\n",
      "\n",
      "Predicted label: mov\n",
      "------------------------------------------------------------------------------------------------------------------------\n",
      "шизоид нужный другой значит шизоид сузить хотеть есть хотеть пить пить хотеть общаться идти общаться\n",
      "\n",
      "True label: sci\n",
      "\n",
      "Predicted label: sci\n",
      "------------------------------------------------------------------------------------------------------------------------\n",
      "платный курс кантор это синагога\n",
      "\n",
      "True label: pr\n",
      "\n",
      "Predicted label: pr\n",
      "------------------------------------------------------------------------------------------------------------------------\n",
      "вопрос понимать измусулить взять хорь девочка месяц жить второй месяц кушать нормально туалет ходить исправно гулять мы день квартира ночью спать клетка вообщий поведение замечание мочь отучить кусаться нога проблема решать носка так далее пытаться укусить нога понимать говорить рука просто прикусывать вгрызаться клык реагировать просто впитываться хищный хват отучить\n",
      "\n",
      "True label: ne\n",
      "\n",
      "Predicted label: ne\n",
      "------------------------------------------------------------------------------------------------------------------------\n",
      "что разочароваться думать бухой быть смотреть снять отъестись поржать генератор лукашин рука вверх круто клип снять граймс алсу бросить\n",
      "\n",
      "True label: mov\n",
      "\n",
      "Predicted label: mov\n",
      "------------------------------------------------------------------------------------------------------------------------\n",
      "прокапать мл метрогил день прописать антибиотик таблетка день омез день тримедата раз день фортифлор пребиотик кошка сделать укол температура свёртываемость кровь завтра повторно оак сдать кот состояние отличный стать просить еда активный ранний врач пока стресс есть\n",
      "\n",
      "True label: ne\n",
      "\n",
      "Predicted label: ne\n",
      "------------------------------------------------------------------------------------------------------------------------\n",
      "op java относительно молодой язык обосраться\n",
      "\n",
      "True label: pr\n",
      "\n",
      "Predicted label: pr\n",
      "------------------------------------------------------------------------------------------------------------------------\n",
      "op привет анон просветить пожалуйста тема кальцивироз котёнок месяц взять примерно середина декабрь тот пора пролечить глист ушной клещ начало январь взять пцр тест респираторный постоянный чих итог положительный кальцивирус хламидиоз микроплазмоз неделя давать котёнок синулокс следующий возить инъекция антибиотик обрабатывать неделя глаз тетрациклин ещё два капля мазилка брызгало рот\n",
      "\n",
      "True label: ne\n",
      "\n",
      "Predicted label: ne\n",
      "------------------------------------------------------------------------------------------------------------------------\n",
      "бля спасать че хуйня прислать тестовый задание немой задача проверка длина инна начать писать код стрдлина встретить такой хуйня неправильно считать количество символ сделать простой код перепроверить это вводить поле инна цифра говорить строка символ вводить цифра символ вводить цифра символ вводить цифра какой хуй строка символ почему это баг\n",
      "\n",
      "True label: pr\n",
      "\n",
      "Predicted label: pr\n",
      "------------------------------------------------------------------------------------------------------------------------\n",
      "крутой пример привести хороший друг подставить друг занимать деньга речь нужно следить мочь сдержанный имхо хотя грешить фильтровать базар изз отношение угробить сейчас никто нету понять че высрало сейчас сорить причём курить пить друг который мочь повеселиться любой мысль обсуждать\n",
      "\n",
      "True label: pr\n",
      "\n",
      "Predicted label: pr\n",
      "------------------------------------------------------------------------------------------------------------------------\n",
      "кормить насекомое очередь морковка яблоко гаммарус субстрат думать должный хватать\n",
      "\n",
      "True label: ne\n",
      "\n",
      "Predicted label: ne\n",
      "------------------------------------------------------------------------------------------------------------------------\n",
      "ох сейчас буква взять сдохнуть голод задрать собака разумеется именно такой негламурный образ работать естественный отбор гарантировать продолжение род сильный менее приспособить отсеиваться конкурировать кормовой база этически оправдать лишь спасение пострадать прямой косвенный вина человек нужно выхаживать рахитный птенец слишком хилый пережить падение гнездо нужно выхаживать упавший стриж который оказаться\n",
      "\n",
      "True label: ne\n",
      "\n",
      "Predicted label: ne\n",
      "------------------------------------------------------------------------------------------------------------------------\n",
      "это решить прикручивание нейронки предсказывать твой input lag прийтись обновить смартфон\n",
      "\n",
      "True label: pr\n",
      "\n",
      "Predicted label: pr\n",
      "------------------------------------------------------------------------------------------------------------------------\n",
      "кст смотреть несколько такой фильм тёлка шликать соло это тип init лесбиянство\n",
      "\n",
      "True label: mov\n",
      "\n",
      "Predicted label: mov\n",
      "------------------------------------------------------------------------------------------------------------------------\n",
      "mdn пройти всё обучение сделать штука шаблон фигма это прям круто\n",
      "\n",
      "True label: pr\n",
      "\n",
      "Predicted label: pr\n",
      "------------------------------------------------------------------------------------------------------------------------\n",
      "дать реакция говорить сам собственно\n",
      "\n",
      "True label: di\n",
      "\n",
      "Predicted label: sci\n",
      "------------------------------------------------------------------------------------------------------------------------\n",
      "понять сучность поле рука впадло поле сетать оплата построчный\n",
      "\n",
      "True label: pr\n",
      "\n",
      "Predicted label: pr\n",
      "------------------------------------------------------------------------------------------------------------------------\n",
      "просто жрать че давать spoiler пираточка чавканий\n",
      "\n",
      "True label: mov\n",
      "\n",
      "Predicted label: di\n",
      "------------------------------------------------------------------------------------------------------------------------\n",
      "co забавно получаться сказать атмосферный углекислый газ вообще происходить\n",
      "\n",
      "True label: sci\n",
      "\n",
      "Predicted label: sci\n",
      "------------------------------------------------------------------------------------------------------------------------\n",
      "предыдущий тред op расписание премьер близкий год человек муравей оса квантомания февраль свой роль вернуться эванджелина лилля пол радда майкл дуглас мишель пфайффера роль кэсся лэгна исполнить актриса кэтрин ньютон главное злодей канга завоеватель сыграть джонатан мэйджерс секретный вторжение начало год свой роль вернуться сэмюэла л джексон ник фьюри бен\n",
      "\n",
      "True label: mov\n",
      "\n",
      "Predicted label: mov\n",
      "------------------------------------------------------------------------------------------------------------------------\n",
      "op создать робот когнитивный эмпатия робот классический смысл думать обучить поведение похожий который проявлять живой существо способный эмпатия всё работать настоящий прийтись создать копия живой организм весь физиологический процесс это робот физически психологически здоровый человек человек человек представлять мозг правда любой информация представимый вид двоичный код правда окружающий среда суть\n",
      "\n",
      "True label: sci\n",
      "\n",
      "Predicted label: sci\n",
      "------------------------------------------------------------------------------------------------------------------------\n",
      "тред лягушка завести озёрный лягушка классный тварь проблема почему потемнеть стать коричневый зелёный стоить уф лампа uvb repti glo пробовать снижать влажность кулер выдуть зеленоватый пигмент немного тёмный бурый кожа кормить сверчок дождев червь выводить муха опарышея кальций еда добавлять лягушка толстый вроде жаловаться ночью петь\n",
      "\n",
      "True label: ne\n",
      "\n",
      "Predicted label: ne\n",
      "------------------------------------------------------------------------------------------------------------------------\n",
      "математик существовать вселить это проверить минимум наличие два вселенная наш полностью описывать особенно тёмный материя тёмный энергия барионный ассиметрия вселенная нарушение cp симметрия слабый взаимодействие отсутствие безмассовый частица спина постоянный полупроводник кризис спина протон аксональный наведение прочее увидеть область физика описать математический язык исключение физика частица физика высокий энергия космология\n",
      "\n",
      "True label: sci\n",
      "\n",
      "Predicted label: sci\n",
      "------------------------------------------------------------------------------------------------------------------------\n",
      "op это обычный еда каждый сраный день мак это праздник полакомиться\n",
      "\n",
      "True label: di\n",
      "\n",
      "Predicted label: di\n",
      "------------------------------------------------------------------------------------------------------------------------\n",
      "op подсказать фильм половина фильм никакой намёк второй жаркий страстный любовь второй половина засунуть рука трусик няша стясняша фильм ебать её хуй отбойный молоток поза маслобойка\n",
      "\n",
      "True label: mov\n",
      "\n",
      "Predicted label: mov\n",
      "------------------------------------------------------------------------------------------------------------------------\n",
      "op жалко что тред существовать прекольный еслиб перенести fag\n",
      "\n",
      "True label: mov\n",
      "\n",
      "Predicted label: mov\n",
      "------------------------------------------------------------------------------------------------------------------------\n",
      "сполейра хичкок мешать мейнстрим авторский режиссёр\n",
      "\n",
      "True label: mov\n",
      "\n",
      "Predicted label: mov\n",
      "------------------------------------------------------------------------------------------------------------------------\n",
      "гейзер нормальный тема варить грамотно чисто любитель ночной экспресс выходить очень крепкий небольшой объём г мл молоко пить збс торкать главное грамотно делать закладка греть равномерный экстракция иначе проебесться\n",
      "\n",
      "True label: di\n",
      "\n",
      "Predicted label: di\n",
      "------------------------------------------------------------------------------------------------------------------------\n",
      "фильм снять смонтировать автор против зарубежный фильм запретить почему торрент кинотеатр\n",
      "\n",
      "True label: mov\n",
      "\n",
      "Predicted label: mov\n",
      "------------------------------------------------------------------------------------------------------------------------\n",
      "гит использовать мимо залетыш нормальный язык sup тм sup\n",
      "\n",
      "True label: pr\n",
      "\n",
      "Predicted label: pr\n",
      "------------------------------------------------------------------------------------------------------------------------\n",
      "отлупить ебать долбоести садист представить замкнутый клетка начать хуярить хобот слон скорее тупой омёжка суммарно детство жизнь кошка один лупить наказывать ласковый я кусать царапать делать неприятный процедура маленький новый место гадиля нужно достаточно просто басовитый голос рявкнуть стукнуть стол рука пусть сразу понимать главный гадить очень сильно чувствовать твой\n",
      "\n",
      "True label: ne\n",
      "\n",
      "Predicted label: ne\n",
      "------------------------------------------------------------------------------------------------------------------------\n",
      "старый пидор снять нормальный терминатор война человек машина\n",
      "\n",
      "True label: mov\n",
      "\n",
      "Predicted label: mov\n",
      "------------------------------------------------------------------------------------------------------------------------\n",
      "зайти бар табер немного покринжиться стоимость кофе спрашивать сколько ваш нужно платить шота эспрессо нищий хуесосом расточительный долбоеб\n",
      "\n",
      "True label: di\n",
      "\n",
      "Predicted label: di\n",
      "------------------------------------------------------------------------------------------------------------------------\n",
      "рецепт хофымана получаться дрянь дрянь такой жидкий пустой пить зптать непонятно\n",
      "\n",
      "True label: di\n",
      "\n",
      "Predicted label: di\n",
      "------------------------------------------------------------------------------------------------------------------------\n",
      "бля речь просто сравнение эффективность поглощение солнечный энергия растение солнечный панель другой устройство кстати найти ошибиться забыть умножить час сутки получаться тонна нефть человкий год эквивалент солнечный энергия средний полоса земля падать тонна год такой количество энергия особо космос разлетаться каждый так быть такой каждый пара день взять слетать космос\n",
      "\n",
      "True label: sci\n",
      "\n",
      "Predicted label: sci\n",
      "------------------------------------------------------------------------------------------------------------------------\n",
      "свежий фото мой псальмо тян\n",
      "\n",
      "True label: ne\n",
      "\n",
      "Predicted label: di\n",
      "------------------------------------------------------------------------------------------------------------------------\n",
      "почему результат эволюция смочь возникнуть очень сложный организм смочь возникнуть сложный механизм\n",
      "\n",
      "True label: sci\n",
      "\n",
      "Predicted label: sci\n",
      "------------------------------------------------------------------------------------------------------------------------\n",
      "кстати новый фильм вернуться прежний история видимо перезапуск залететь дом кэтти кристи жить детство\n",
      "\n",
      "True label: mov\n",
      "\n",
      "Predicted label: mov\n",
      "------------------------------------------------------------------------------------------------------------------------\n",
      "либо тащить спасибо вырожденец нулевой iq бесконечный чсв тащить свой горб собираться\n",
      "\n",
      "True label: sci\n",
      "\n",
      "Predicted label: pr\n",
      "------------------------------------------------------------------------------------------------------------------------\n",
      "панкекейка этот прогрессора блинотред отстаивать преимущество дорогущий требовательный обслуживание чугун копеечный неприхотливый антипригарный сковородка приводить пример глубокий высокооборотный посудина глупо лёгкий низкобортный блинный сковорода тонкий дно современный электроплита дать сто очко фора это мастодонт кулинария удобство обращение контроль температура нагрев\n",
      "\n",
      "True label: di\n",
      "\n",
      "Predicted label: di\n",
      "------------------------------------------------------------------------------------------------------------------------\n",
      "пластиковый канистра который кислота продавать азот серка заебато солянка поддувать смысл заморачиваться уплотнение пробка однажды полезть вытяжка обнаружить ржавчина размер арбуз\n",
      "\n",
      "True label: sci\n",
      "\n",
      "Predicted label: di\n",
      "------------------------------------------------------------------------------------------------------------------------\n",
      "морской свинка план возможность взять рука погладить кошка\n",
      "\n",
      "True label: ne\n",
      "\n",
      "Predicted label: ne\n",
      "------------------------------------------------------------------------------------------------------------------------\n",
      "первый лишний знание вопрос плоскость спасти помочь работать всё работать найти способ реализовать обртануй совместимость просто всё это немного костыльный хотеться иметь готовый решение хотя понимание будущее второй достаточно напиздеть свой компетенция собес ещё поднимать зп\n",
      "\n",
      "True label: pr\n",
      "\n",
      "Predicted label: pr\n",
      "------------------------------------------------------------------------------------------------------------------------\n",
      "шанс получить неплохой микролот пожилой бразилия который вымелить прилавок рубль\n",
      "\n",
      "True label: di\n",
      "\n",
      "Predicted label: di\n",
      "------------------------------------------------------------------------------------------------------------------------\n",
      "купить человеческий клетка широкий высота этаж половина\n",
      "\n",
      "True label: ne\n",
      "\n",
      "Predicted label: ne\n",
      "------------------------------------------------------------------------------------------------------------------------\n",
      "лень твой ебот читать идти нахуй просто\n",
      "\n",
      "True label: di\n",
      "\n",
      "Predicted label: pr\n",
      "------------------------------------------------------------------------------------------------------------------------\n",
      "молодец стать выкладывать изделие тред твой едок видимо непритязательный рецепт сомнительный опустить глютамат использовать манка столько лука фарш делать сам сторониться такой чудо мясокомбинат твой картинка\n",
      "\n",
      "True label: di\n",
      "\n",
      "Predicted label: di\n",
      "------------------------------------------------------------------------------------------------------------------------\n",
      "голдфингер стоить общий образование посмотреть это именно самый бонд который нога расти сто сорок следующий бонд\n",
      "\n",
      "True label: mov\n",
      "\n",
      "Predicted label: mov\n",
      "------------------------------------------------------------------------------------------------------------------------\n",
      "мендес играть форсаж лола помнить такой скрин\n",
      "\n",
      "True label: "
     ]
    },
    {
     "name": "stderr",
     "output_type": "stream",
     "text": [
      "IOPub data rate exceeded.\n",
      "The notebook server will temporarily stop sending output\n",
      "to the client in order to avoid crashing it.\n",
      "To change this limit, set the config variable\n",
      "`--NotebookApp.iopub_data_rate_limit`.\n",
      "\n",
      "Current values:\n",
      "NotebookApp.iopub_data_rate_limit=1000000.0 (bytes/sec)\n",
      "NotebookApp.rate_limit_window=3.0 (secs)\n",
      "\n"
     ]
    }
   ],
   "source": [
    "for i in range(y_test.shape[0]):\n",
    "    print_example(i, X_test, y_test, predict, messages_dict, labels_dict)\n",
    "    print('-'*120)"
   ]
  },
  {
   "cell_type": "code",
   "execution_count": null,
   "id": "5c13af5f",
   "metadata": {},
   "outputs": [],
   "source": []
  },
  {
   "cell_type": "code",
   "execution_count": 79,
   "id": "5a678fb4",
   "metadata": {},
   "outputs": [
    {
     "name": "stderr",
     "output_type": "stream",
     "text": [
      "WARNING:absl:Found untraced functions such as _jit_compiled_convolution_op, gru_cell_1_layer_call_fn, gru_cell_1_layer_call_and_return_conditional_losses while saving (showing 3 of 3). These functions will not be directly callable after loading.\n"
     ]
    },
    {
     "name": "stdout",
     "output_type": "stream",
     "text": [
      "INFO:tensorflow:Assets written to: ./saves/all-posts-mov-pr-sci-di-ne-0.77-macro\\assets\n"
     ]
    },
    {
     "name": "stderr",
     "output_type": "stream",
     "text": [
      "INFO:tensorflow:Assets written to: ./saves/all-posts-mov-pr-sci-di-ne-0.77-macro\\assets\n"
     ]
    }
   ],
   "source": [
    "#model.save('./saves/all-posts-mov-pr-sci-di-ne-0.77-macro')"
   ]
  },
  {
   "cell_type": "code",
   "execution_count": null,
   "id": "9ae9c445",
   "metadata": {},
   "outputs": [],
   "source": []
  },
  {
   "cell_type": "code",
   "execution_count": null,
   "id": "428d511c",
   "metadata": {},
   "outputs": [],
   "source": []
  },
  {
   "cell_type": "code",
   "execution_count": null,
   "id": "281bd7d3",
   "metadata": {},
   "outputs": [],
   "source": []
  },
  {
   "cell_type": "code",
   "execution_count": null,
   "id": "b11436df",
   "metadata": {},
   "outputs": [],
   "source": []
  },
  {
   "cell_type": "code",
   "execution_count": null,
   "id": "754e4342",
   "metadata": {},
   "outputs": [],
   "source": []
  }
 ],
 "metadata": {
  "kernelspec": {
   "display_name": "Python 3 (ipykernel)",
   "language": "python",
   "name": "python3"
  },
  "language_info": {
   "codemirror_mode": {
    "name": "ipython",
    "version": 3
   },
   "file_extension": ".py",
   "mimetype": "text/x-python",
   "name": "python",
   "nbconvert_exporter": "python",
   "pygments_lexer": "ipython3",
   "version": "3.9.6"
  }
 },
 "nbformat": 4,
 "nbformat_minor": 5
}
